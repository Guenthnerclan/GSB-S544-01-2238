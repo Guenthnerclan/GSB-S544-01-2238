{
 "cells": [
  {
   "cell_type": "code",
   "execution_count": 1,
   "metadata": {
    "id": "b69ul3XcoRQv",
    "tags": []
   },
   "outputs": [],
   "source": [
    "import numpy as np\n",
    "import pandas as pd\n",
    "from sys import exit"
   ]
  },
  {
   "cell_type": "markdown",
   "metadata": {
    "id": "1Q8_a-5qociG"
   },
   "source": [
    "1. Fill in the necessary code to write a function called `times_seven()`. The function should take a single argument (`x`) and multiply the input by 7.\n",
    "  + This function should check that the argument is numeric.\n",
    "  + This function should also excitedly announce (print) *“I love sevens!”* if the argument to the function is a 7."
   ]
  },
  {
   "cell_type": "code",
   "execution_count": 17,
   "metadata": {
    "id": "l5CW0nuloYzy",
    "tags": []
   },
   "outputs": [],
   "source": [
    "def times_seven(x):\n",
    "    if (type(x) != (int or float)):\n",
    "        exit(\"Value is not numeric.\")\n",
    "\n",
    "    if x == 7:\n",
    "        print(\"I love sevens!\")\n",
    "\n",
    "    return x*7"
   ]
  },
  {
   "cell_type": "markdown",
   "metadata": {
    "id": "nonjYlruotrq"
   },
   "source": [
    "2. Write and run some *unit tests* for your `times_seven` function.  What happens if the input to the function is `[1, 3, 5, 7]`?"
   ]
  },
  {
   "cell_type": "code",
   "execution_count": 18,
   "metadata": {
    "colab": {
     "base_uri": "https://localhost:8080/",
     "height": 179
    },
    "id": "-g8xo_BIdL9D",
    "outputId": "ba86dd2b-f090-4fbd-982f-3c7eaffa5f4e",
    "tags": []
   },
   "outputs": [
    {
     "ename": "SystemExit",
     "evalue": "Value is not numeric.",
     "output_type": "error",
     "traceback": [
      "An exception has occurred, use %tb to see the full traceback.\n",
      "\u001b[1;31mSystemExit\u001b[0m\u001b[1;31m:\u001b[0m Value is not numeric.\n"
     ]
    }
   ],
   "source": [
    "times_seven(\"7\")"
   ]
  },
  {
   "cell_type": "code",
   "execution_count": 19,
   "metadata": {
    "colab": {
     "base_uri": "https://localhost:8080/",
     "height": 143
    },
    "id": "AqHhym6MdWkq",
    "outputId": "bbf54310-0dfd-4afb-f89f-353b3505cb1b",
    "tags": []
   },
   "outputs": [
    {
     "name": "stdout",
     "output_type": "stream",
     "text": [
      "I love sevens!\n"
     ]
    },
    {
     "data": {
      "text/plain": [
       "49"
      ]
     },
     "execution_count": 19,
     "metadata": {},
     "output_type": "execute_result"
    }
   ],
   "source": [
    "times_seven(7)"
   ]
  },
  {
   "cell_type": "code",
   "execution_count": 21,
   "metadata": {
    "tags": []
   },
   "outputs": [
    {
     "ename": "SystemExit",
     "evalue": "Value is not numeric.",
     "output_type": "error",
     "traceback": [
      "An exception has occurred, use %tb to see the full traceback.\n",
      "\u001b[1;31mSystemExit\u001b[0m\u001b[1;31m:\u001b[0m Value is not numeric.\n"
     ]
    }
   ],
   "source": [
    "times_seven([1,3,5,7])"
   ]
  },
  {
   "cell_type": "markdown",
   "metadata": {},
   "source": [
    "Throws an error since we only allow a single number input rather than an array of values"
   ]
  },
  {
   "cell_type": "markdown",
   "metadata": {
    "id": "98sLHKBno39e"
   },
   "source": [
    "3. Consider the following function:"
   ]
  },
  {
   "cell_type": "code",
   "execution_count": 22,
   "metadata": {
    "id": "V1xGEwq-o5mh",
    "tags": []
   },
   "outputs": [],
   "source": [
    "def add_or_subtract(first_num, second_num = 2, type = \"add\"):\n",
    "    if (type == \"add\"):\n",
    "        first_num + second_num\n",
    "    elif (type == \"subtract\"):\n",
    "        first_num - second_num\n",
    "    else:\n",
    "        exit(\"Please choose `add` or `subtract` as the type.\")"
   ]
  },
  {
   "cell_type": "markdown",
   "metadata": {
    "id": "KIzEYgR1pI0K"
   },
   "source": [
    "**Without running the code**, predict if the following will produce:\n",
    "\n",
    "a. 1\n",
    "\n",
    "b. -1\n",
    "\n",
    "c. 30\n",
    "\n",
    "d. An error defined by the function `add_or_subtract()`\n",
    "\n",
    "e. An error defined in a different function, which is called inside the `add_or_subtract()` function"
   ]
  },
  {
   "cell_type": "code",
   "execution_count": 23,
   "metadata": {
    "id": "AKN_fkigpHIS",
    "tags": []
   },
   "outputs": [
    {
     "ename": "TypeError",
     "evalue": "can only concatenate str (not \"int\") to str",
     "output_type": "error",
     "traceback": [
      "\u001b[1;31m---------------------------------------------------------------------------\u001b[0m",
      "\u001b[1;31mTypeError\u001b[0m                                 Traceback (most recent call last)",
      "Cell \u001b[1;32mIn[23], line 5\u001b[0m\n\u001b[0;32m      2\u001b[0m add_or_subtract(\u001b[38;5;241m5\u001b[39m, \u001b[38;5;241m6\u001b[39m, \u001b[38;5;28mtype\u001b[39m \u001b[38;5;241m=\u001b[39m \u001b[38;5;124m\"\u001b[39m\u001b[38;5;124msubtract\u001b[39m\u001b[38;5;124m\"\u001b[39m)\n\u001b[0;32m      4\u001b[0m \u001b[38;5;66;03m#e because \"orange\" + 2 should throw an error\u001b[39;00m\n\u001b[1;32m----> 5\u001b[0m add_or_subtract(\u001b[38;5;124m\"\u001b[39m\u001b[38;5;124morange\u001b[39m\u001b[38;5;124m\"\u001b[39m)\n\u001b[0;32m      7\u001b[0m \u001b[38;5;66;03m#d error due to the type being \"multiply\"\u001b[39;00m\n\u001b[0;32m      8\u001b[0m add_or_subtract(\u001b[38;5;241m5\u001b[39m, \u001b[38;5;241m6\u001b[39m, \u001b[38;5;28mtype\u001b[39m \u001b[38;5;241m=\u001b[39m \u001b[38;5;124m\"\u001b[39m\u001b[38;5;124mmultiply\u001b[39m\u001b[38;5;124m\"\u001b[39m)\n",
      "Cell \u001b[1;32mIn[22], line 3\u001b[0m, in \u001b[0;36madd_or_subtract\u001b[1;34m(first_num, second_num, type)\u001b[0m\n\u001b[0;32m      1\u001b[0m \u001b[38;5;28;01mdef\u001b[39;00m \u001b[38;5;21madd_or_subtract\u001b[39m(first_num, second_num \u001b[38;5;241m=\u001b[39m \u001b[38;5;241m2\u001b[39m, \u001b[38;5;28mtype\u001b[39m \u001b[38;5;241m=\u001b[39m \u001b[38;5;124m\"\u001b[39m\u001b[38;5;124madd\u001b[39m\u001b[38;5;124m\"\u001b[39m):\n\u001b[0;32m      2\u001b[0m     \u001b[38;5;28;01mif\u001b[39;00m (\u001b[38;5;28mtype\u001b[39m \u001b[38;5;241m==\u001b[39m \u001b[38;5;124m\"\u001b[39m\u001b[38;5;124madd\u001b[39m\u001b[38;5;124m\"\u001b[39m):\n\u001b[1;32m----> 3\u001b[0m         first_num \u001b[38;5;241m+\u001b[39m second_num\n\u001b[0;32m      4\u001b[0m     \u001b[38;5;28;01melif\u001b[39;00m (\u001b[38;5;28mtype\u001b[39m \u001b[38;5;241m==\u001b[39m \u001b[38;5;124m\"\u001b[39m\u001b[38;5;124msubtract\u001b[39m\u001b[38;5;124m\"\u001b[39m):\n\u001b[0;32m      5\u001b[0m         first_num \u001b[38;5;241m-\u001b[39m second_num\n",
      "\u001b[1;31mTypeError\u001b[0m: can only concatenate str (not \"int\") to str"
     ]
    }
   ],
   "source": [
    "#b because with these values we are asking for 5-6 = -1\n",
    "add_or_subtract(5, 6, type = \"subtract\")\n",
    "\n",
    "#e because \"orange\" + 2 should throw an error\n",
    "add_or_subtract(\"orange\")\n",
    "\n",
    "#d error due to the type being \"multiply\"\n",
    "add_or_subtract(5, 6, type = \"multiply\")"
   ]
  },
  {
   "cell_type": "markdown",
   "metadata": {
    "id": "Z0_cVjgdpOSr"
   },
   "source": [
    "4. Consider the following code:"
   ]
  },
  {
   "cell_type": "code",
   "execution_count": null,
   "metadata": {
    "id": "G4ImmGWGpekK"
   },
   "outputs": [],
   "source": [
    "first_num  = 5\n",
    "second_num = 3\n",
    "\n",
    "result = 8\n",
    "\n",
    "result = add_or_subtract(first_num, second_num = 4)\n",
    "\n",
    "result_2 = add_or_subtract(first_num)"
   ]
  },
  {
   "cell_type": "markdown",
   "metadata": {
    "id": "K0I7k29Qpjfo"
   },
   "source": [
    "\n",
    "In your Global Environment, what is the value of...\n",
    "\n",
    "a. `first_num`\n",
    "\n",
    "b. `second_num`\n",
    "\n",
    "c. `result`\n",
    "\n",
    "d. `result_2`"
   ]
  },
  {
   "cell_type": "markdown",
   "metadata": {},
   "source": [
    "first_num is globally the value 5, unchanged.\n",
    "second_num is globally the value 3, unchanged.\n",
    "result is initially the value 8 and then changed to the result of add_or_subtract(5,4) = 9\n",
    "Finally, result_2 is defined as add_or_sutract(5) which is 5+2 = 7."
   ]
  }
 ],
 "metadata": {
  "colab": {
   "provenance": []
  },
  "kernelspec": {
   "display_name": "Python 3 (ipykernel)",
   "language": "python",
   "name": "python3"
  },
  "language_info": {
   "codemirror_mode": {
    "name": "ipython",
    "version": 3
   },
   "file_extension": ".py",
   "mimetype": "text/x-python",
   "name": "python",
   "nbconvert_exporter": "python",
   "pygments_lexer": "ipython3",
   "version": "3.11.4"
  }
 },
 "nbformat": 4,
 "nbformat_minor": 4
}
