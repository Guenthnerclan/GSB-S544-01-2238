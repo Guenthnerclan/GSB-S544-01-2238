{
 "cells": [
  {
   "cell_type": "code",
   "execution_count": 1,
   "id": "2383bc8d-58c3-432d-ab02-37ede5c6174a",
   "metadata": {
    "tags": []
   },
   "outputs": [],
   "source": [
    "import pandas as pd\n",
    "import numpy as np\n",
    "from sklearn.pipeline import Pipeline\n",
    "from sklearn.neighbors import KNeighborsClassifier, KNeighborsRegressor\n",
    "from sklearn.tree import DecisionTreeClassifier, DecisionTreeRegressor\n",
    "from sklearn.linear_model import LogisticRegression, LinearRegression\n",
    "from palmerpenguins import load_penguins\n",
    "from sklearn.compose import make_column_selector, ColumnTransformer\n",
    "from sklearn.preprocessing import StandardScaler, OneHotEncoder, PolynomialFeatures\n",
    "from sklearn.model_selection import train_test_split, cross_val_score\n",
    "from sklearn.metrics import confusion_matrix, accuracy_score, precision_score, recall_score, roc_auc_score, f1_score\n",
    "from sklearn.model_selection import GridSearchCV\n",
    "\n",
    "from sklearn.svm import SVC\n",
    "from sklearn.discriminant_analysis import LinearDiscriminantAnalysis\n",
    "\n",
    "#Silence!\n",
    "import warnings\n",
    "warnings.filterwarnings(\"ignore\")"
   ]
  },
  {
   "cell_type": "code",
   "execution_count": 2,
   "id": "7307f389-92c9-4356-a0b5-b42071d3da1f",
   "metadata": {
    "tags": []
   },
   "outputs": [],
   "source": [
    "test = pd.read_csv(\"test_new.csv\")"
   ]
  },
  {
   "cell_type": "code",
   "execution_count": 3,
   "id": "b291b245-cdb0-477c-af81-c62ae29c65c2",
   "metadata": {
    "tags": []
   },
   "outputs": [
    {
     "data": {
      "text/html": [
       "<div>\n",
       "<style scoped>\n",
       "    .dataframe tbody tr th:only-of-type {\n",
       "        vertical-align: middle;\n",
       "    }\n",
       "\n",
       "    .dataframe tbody tr th {\n",
       "        vertical-align: top;\n",
       "    }\n",
       "\n",
       "    .dataframe thead th {\n",
       "        text-align: right;\n",
       "    }\n",
       "</style>\n",
       "<table border=\"1\" class=\"dataframe\">\n",
       "  <thead>\n",
       "    <tr style=\"text-align: right;\">\n",
       "      <th></th>\n",
       "      <th>PID</th>\n",
       "      <th>Lot Frontage</th>\n",
       "      <th>Lot Area</th>\n",
       "      <th>Street</th>\n",
       "      <th>Neighborhood</th>\n",
       "      <th>Bldg Type</th>\n",
       "      <th>House Style</th>\n",
       "      <th>Overall Qual</th>\n",
       "      <th>Overall Cond</th>\n",
       "      <th>Year Built</th>\n",
       "      <th>...</th>\n",
       "      <th>Full Bath</th>\n",
       "      <th>Half Bath</th>\n",
       "      <th>Bedroom AbvGr</th>\n",
       "      <th>TotRms AbvGrd</th>\n",
       "      <th>Gr Liv Area</th>\n",
       "      <th>Functional</th>\n",
       "      <th>Screen Porch</th>\n",
       "      <th>Pool Area</th>\n",
       "      <th>Yr Sold</th>\n",
       "      <th>Sale Type</th>\n",
       "    </tr>\n",
       "  </thead>\n",
       "  <tbody>\n",
       "    <tr>\n",
       "      <th>0</th>\n",
       "      <td>907135180</td>\n",
       "      <td>60</td>\n",
       "      <td>8070</td>\n",
       "      <td>Pave</td>\n",
       "      <td>CollgCr</td>\n",
       "      <td>1Fam</td>\n",
       "      <td>1Story</td>\n",
       "      <td>4</td>\n",
       "      <td>5</td>\n",
       "      <td>1994</td>\n",
       "      <td>...</td>\n",
       "      <td>1</td>\n",
       "      <td>0</td>\n",
       "      <td>3</td>\n",
       "      <td>5</td>\n",
       "      <td>990</td>\n",
       "      <td>Typ</td>\n",
       "      <td>0</td>\n",
       "      <td>0</td>\n",
       "      <td>2007</td>\n",
       "      <td>WD</td>\n",
       "    </tr>\n",
       "    <tr>\n",
       "      <th>1</th>\n",
       "      <td>528181040</td>\n",
       "      <td>40</td>\n",
       "      <td>6792</td>\n",
       "      <td>Pave</td>\n",
       "      <td>NridgHt</td>\n",
       "      <td>TwnhsE</td>\n",
       "      <td>1Story</td>\n",
       "      <td>7</td>\n",
       "      <td>5</td>\n",
       "      <td>2005</td>\n",
       "      <td>...</td>\n",
       "      <td>2</td>\n",
       "      <td>0</td>\n",
       "      <td>2</td>\n",
       "      <td>6</td>\n",
       "      <td>1368</td>\n",
       "      <td>Typ</td>\n",
       "      <td>0</td>\n",
       "      <td>0</td>\n",
       "      <td>2006</td>\n",
       "      <td>New</td>\n",
       "    </tr>\n",
       "    <tr>\n",
       "      <th>2</th>\n",
       "      <td>528175010</td>\n",
       "      <td>44</td>\n",
       "      <td>6371</td>\n",
       "      <td>Pave</td>\n",
       "      <td>NridgHt</td>\n",
       "      <td>TwnhsE</td>\n",
       "      <td>1Story</td>\n",
       "      <td>7</td>\n",
       "      <td>5</td>\n",
       "      <td>2009</td>\n",
       "      <td>...</td>\n",
       "      <td>2</td>\n",
       "      <td>0</td>\n",
       "      <td>2</td>\n",
       "      <td>6</td>\n",
       "      <td>1358</td>\n",
       "      <td>Typ</td>\n",
       "      <td>0</td>\n",
       "      <td>0</td>\n",
       "      <td>2010</td>\n",
       "      <td>New</td>\n",
       "    </tr>\n",
       "    <tr>\n",
       "      <th>3</th>\n",
       "      <td>531379030</td>\n",
       "      <td>70</td>\n",
       "      <td>8304</td>\n",
       "      <td>Pave</td>\n",
       "      <td>SawyerW</td>\n",
       "      <td>1Fam</td>\n",
       "      <td>2Story</td>\n",
       "      <td>6</td>\n",
       "      <td>5</td>\n",
       "      <td>1997</td>\n",
       "      <td>...</td>\n",
       "      <td>2</td>\n",
       "      <td>1</td>\n",
       "      <td>3</td>\n",
       "      <td>7</td>\n",
       "      <td>1837</td>\n",
       "      <td>Typ</td>\n",
       "      <td>0</td>\n",
       "      <td>0</td>\n",
       "      <td>2006</td>\n",
       "      <td>WD</td>\n",
       "    </tr>\n",
       "    <tr>\n",
       "      <th>4</th>\n",
       "      <td>923275090</td>\n",
       "      <td>37</td>\n",
       "      <td>6951</td>\n",
       "      <td>Pave</td>\n",
       "      <td>Mitchel</td>\n",
       "      <td>1Fam</td>\n",
       "      <td>1Story</td>\n",
       "      <td>5</td>\n",
       "      <td>5</td>\n",
       "      <td>1984</td>\n",
       "      <td>...</td>\n",
       "      <td>1</td>\n",
       "      <td>0</td>\n",
       "      <td>3</td>\n",
       "      <td>5</td>\n",
       "      <td>923</td>\n",
       "      <td>Typ</td>\n",
       "      <td>0</td>\n",
       "      <td>0</td>\n",
       "      <td>2008</td>\n",
       "      <td>WD</td>\n",
       "    </tr>\n",
       "    <tr>\n",
       "      <th>...</th>\n",
       "      <td>...</td>\n",
       "      <td>...</td>\n",
       "      <td>...</td>\n",
       "      <td>...</td>\n",
       "      <td>...</td>\n",
       "      <td>...</td>\n",
       "      <td>...</td>\n",
       "      <td>...</td>\n",
       "      <td>...</td>\n",
       "      <td>...</td>\n",
       "      <td>...</td>\n",
       "      <td>...</td>\n",
       "      <td>...</td>\n",
       "      <td>...</td>\n",
       "      <td>...</td>\n",
       "      <td>...</td>\n",
       "      <td>...</td>\n",
       "      <td>...</td>\n",
       "      <td>...</td>\n",
       "      <td>...</td>\n",
       "      <td>...</td>\n",
       "    </tr>\n",
       "    <tr>\n",
       "      <th>600</th>\n",
       "      <td>528174060</td>\n",
       "      <td>34</td>\n",
       "      <td>5381</td>\n",
       "      <td>Pave</td>\n",
       "      <td>NridgHt</td>\n",
       "      <td>Twnhs</td>\n",
       "      <td>1Story</td>\n",
       "      <td>6</td>\n",
       "      <td>5</td>\n",
       "      <td>2005</td>\n",
       "      <td>...</td>\n",
       "      <td>2</td>\n",
       "      <td>0</td>\n",
       "      <td>1</td>\n",
       "      <td>5</td>\n",
       "      <td>1306</td>\n",
       "      <td>Typ</td>\n",
       "      <td>0</td>\n",
       "      <td>0</td>\n",
       "      <td>2009</td>\n",
       "      <td>WD</td>\n",
       "    </tr>\n",
       "    <tr>\n",
       "      <th>601</th>\n",
       "      <td>903400180</td>\n",
       "      <td>64</td>\n",
       "      <td>13053</td>\n",
       "      <td>Pave</td>\n",
       "      <td>BrkSide</td>\n",
       "      <td>1Fam</td>\n",
       "      <td>1.5Fin</td>\n",
       "      <td>6</td>\n",
       "      <td>7</td>\n",
       "      <td>1923</td>\n",
       "      <td>...</td>\n",
       "      <td>1</td>\n",
       "      <td>1</td>\n",
       "      <td>4</td>\n",
       "      <td>8</td>\n",
       "      <td>1848</td>\n",
       "      <td>Typ</td>\n",
       "      <td>220</td>\n",
       "      <td>0</td>\n",
       "      <td>2008</td>\n",
       "      <td>WD</td>\n",
       "    </tr>\n",
       "    <tr>\n",
       "      <th>602</th>\n",
       "      <td>903227150</td>\n",
       "      <td>53</td>\n",
       "      <td>6360</td>\n",
       "      <td>Pave</td>\n",
       "      <td>BrkSide</td>\n",
       "      <td>1Fam</td>\n",
       "      <td>1.5Fin</td>\n",
       "      <td>5</td>\n",
       "      <td>6</td>\n",
       "      <td>1942</td>\n",
       "      <td>...</td>\n",
       "      <td>1</td>\n",
       "      <td>1</td>\n",
       "      <td>3</td>\n",
       "      <td>7</td>\n",
       "      <td>1453</td>\n",
       "      <td>Min2</td>\n",
       "      <td>148</td>\n",
       "      <td>0</td>\n",
       "      <td>2010</td>\n",
       "      <td>WD</td>\n",
       "    </tr>\n",
       "    <tr>\n",
       "      <th>603</th>\n",
       "      <td>909250070</td>\n",
       "      <td>43</td>\n",
       "      <td>7000</td>\n",
       "      <td>Pave</td>\n",
       "      <td>SWISU</td>\n",
       "      <td>1Fam</td>\n",
       "      <td>2Story</td>\n",
       "      <td>7</td>\n",
       "      <td>8</td>\n",
       "      <td>1926</td>\n",
       "      <td>...</td>\n",
       "      <td>1</td>\n",
       "      <td>0</td>\n",
       "      <td>3</td>\n",
       "      <td>6</td>\n",
       "      <td>1479</td>\n",
       "      <td>Typ</td>\n",
       "      <td>0</td>\n",
       "      <td>0</td>\n",
       "      <td>2006</td>\n",
       "      <td>WD</td>\n",
       "    </tr>\n",
       "    <tr>\n",
       "      <th>604</th>\n",
       "      <td>909425180</td>\n",
       "      <td>80</td>\n",
       "      <td>12984</td>\n",
       "      <td>Pave</td>\n",
       "      <td>Crawfor</td>\n",
       "      <td>1Fam</td>\n",
       "      <td>1Story</td>\n",
       "      <td>5</td>\n",
       "      <td>6</td>\n",
       "      <td>1977</td>\n",
       "      <td>...</td>\n",
       "      <td>2</td>\n",
       "      <td>0</td>\n",
       "      <td>3</td>\n",
       "      <td>7</td>\n",
       "      <td>1647</td>\n",
       "      <td>Typ</td>\n",
       "      <td>0</td>\n",
       "      <td>0</td>\n",
       "      <td>2006</td>\n",
       "      <td>WD</td>\n",
       "    </tr>\n",
       "  </tbody>\n",
       "</table>\n",
       "<p>605 rows × 24 columns</p>\n",
       "</div>"
      ],
      "text/plain": [
       "           PID  Lot Frontage  Lot Area Street Neighborhood Bldg Type  \\\n",
       "0    907135180            60      8070   Pave      CollgCr      1Fam   \n",
       "1    528181040            40      6792   Pave      NridgHt    TwnhsE   \n",
       "2    528175010            44      6371   Pave      NridgHt    TwnhsE   \n",
       "3    531379030            70      8304   Pave      SawyerW      1Fam   \n",
       "4    923275090            37      6951   Pave      Mitchel      1Fam   \n",
       "..         ...           ...       ...    ...          ...       ...   \n",
       "600  528174060            34      5381   Pave      NridgHt     Twnhs   \n",
       "601  903400180            64     13053   Pave      BrkSide      1Fam   \n",
       "602  903227150            53      6360   Pave      BrkSide      1Fam   \n",
       "603  909250070            43      7000   Pave        SWISU      1Fam   \n",
       "604  909425180            80     12984   Pave      Crawfor      1Fam   \n",
       "\n",
       "    House Style  Overall Qual  Overall Cond  Year Built  ... Full Bath  \\\n",
       "0        1Story             4             5        1994  ...         1   \n",
       "1        1Story             7             5        2005  ...         2   \n",
       "2        1Story             7             5        2009  ...         2   \n",
       "3        2Story             6             5        1997  ...         2   \n",
       "4        1Story             5             5        1984  ...         1   \n",
       "..          ...           ...           ...         ...  ...       ...   \n",
       "600      1Story             6             5        2005  ...         2   \n",
       "601      1.5Fin             6             7        1923  ...         1   \n",
       "602      1.5Fin             5             6        1942  ...         1   \n",
       "603      2Story             7             8        1926  ...         1   \n",
       "604      1Story             5             6        1977  ...         2   \n",
       "\n",
       "    Half Bath Bedroom AbvGr TotRms AbvGrd  Gr Liv Area  Functional  \\\n",
       "0           0             3             5          990         Typ   \n",
       "1           0             2             6         1368         Typ   \n",
       "2           0             2             6         1358         Typ   \n",
       "3           1             3             7         1837         Typ   \n",
       "4           0             3             5          923         Typ   \n",
       "..        ...           ...           ...          ...         ...   \n",
       "600         0             1             5         1306         Typ   \n",
       "601         1             4             8         1848         Typ   \n",
       "602         1             3             7         1453        Min2   \n",
       "603         0             3             6         1479         Typ   \n",
       "604         0             3             7         1647         Typ   \n",
       "\n",
       "     Screen Porch  Pool Area  Yr Sold Sale Type  \n",
       "0               0          0     2007        WD  \n",
       "1               0          0     2006       New  \n",
       "2               0          0     2010       New  \n",
       "3               0          0     2006        WD  \n",
       "4               0          0     2008        WD  \n",
       "..            ...        ...      ...       ...  \n",
       "600             0          0     2009        WD  \n",
       "601           220          0     2008        WD  \n",
       "602           148          0     2010        WD  \n",
       "603             0          0     2006        WD  \n",
       "604             0          0     2006        WD  \n",
       "\n",
       "[605 rows x 24 columns]"
      ]
     },
     "execution_count": 3,
     "metadata": {},
     "output_type": "execute_result"
    }
   ],
   "source": [
    "test"
   ]
  },
  {
   "cell_type": "code",
   "execution_count": 27,
   "id": "6e7d4527-dae4-481b-b7aa-49abd2dd9cda",
   "metadata": {
    "tags": []
   },
   "outputs": [],
   "source": [
    "train = pd.read_csv(\"train_new.csv\")"
   ]
  },
  {
   "cell_type": "code",
   "execution_count": 28,
   "id": "2d387f00-cf8c-4041-8a2a-37c489c78202",
   "metadata": {
    "tags": []
   },
   "outputs": [],
   "source": [
    "# Make a log(saleprice) column\n",
    "train[\"LogSalePrice\"] = np.log(train['SalePrice'])"
   ]
  },
  {
   "cell_type": "code",
   "execution_count": 29,
   "id": "f14e5d5b-a0a1-4e28-a915-4a607fe27358",
   "metadata": {
    "tags": []
   },
   "outputs": [
    {
     "data": {
      "text/html": [
       "<div>\n",
       "<style scoped>\n",
       "    .dataframe tbody tr th:only-of-type {\n",
       "        vertical-align: middle;\n",
       "    }\n",
       "\n",
       "    .dataframe tbody tr th {\n",
       "        vertical-align: top;\n",
       "    }\n",
       "\n",
       "    .dataframe thead th {\n",
       "        text-align: right;\n",
       "    }\n",
       "</style>\n",
       "<table border=\"1\" class=\"dataframe\">\n",
       "  <thead>\n",
       "    <tr style=\"text-align: right;\">\n",
       "      <th></th>\n",
       "      <th>SalePrice</th>\n",
       "      <th>PID</th>\n",
       "      <th>Lot Frontage</th>\n",
       "      <th>Lot Area</th>\n",
       "      <th>Street</th>\n",
       "      <th>Neighborhood</th>\n",
       "      <th>Bldg Type</th>\n",
       "      <th>House Style</th>\n",
       "      <th>Overall Qual</th>\n",
       "      <th>Overall Cond</th>\n",
       "      <th>...</th>\n",
       "      <th>Half Bath</th>\n",
       "      <th>Bedroom AbvGr</th>\n",
       "      <th>TotRms AbvGrd</th>\n",
       "      <th>Gr Liv Area</th>\n",
       "      <th>Functional</th>\n",
       "      <th>Screen Porch</th>\n",
       "      <th>Pool Area</th>\n",
       "      <th>Yr Sold</th>\n",
       "      <th>Sale Type</th>\n",
       "      <th>LogSalePrice</th>\n",
       "    </tr>\n",
       "  </thead>\n",
       "  <tbody>\n",
       "    <tr>\n",
       "      <th>0</th>\n",
       "      <td>159000</td>\n",
       "      <td>531363010</td>\n",
       "      <td>80.0</td>\n",
       "      <td>9605</td>\n",
       "      <td>Pave</td>\n",
       "      <td>SawyerW</td>\n",
       "      <td>1Fam</td>\n",
       "      <td>1Story</td>\n",
       "      <td>7</td>\n",
       "      <td>6</td>\n",
       "      <td>...</td>\n",
       "      <td>1</td>\n",
       "      <td>3</td>\n",
       "      <td>6</td>\n",
       "      <td>1218</td>\n",
       "      <td>Typ</td>\n",
       "      <td>0</td>\n",
       "      <td>0</td>\n",
       "      <td>2009</td>\n",
       "      <td>WD</td>\n",
       "      <td>11.976659</td>\n",
       "    </tr>\n",
       "    <tr>\n",
       "      <th>1</th>\n",
       "      <td>271900</td>\n",
       "      <td>906203120</td>\n",
       "      <td>90.0</td>\n",
       "      <td>14684</td>\n",
       "      <td>Pave</td>\n",
       "      <td>SawyerW</td>\n",
       "      <td>1Fam</td>\n",
       "      <td>1Story</td>\n",
       "      <td>7</td>\n",
       "      <td>7</td>\n",
       "      <td>...</td>\n",
       "      <td>0</td>\n",
       "      <td>3</td>\n",
       "      <td>7</td>\n",
       "      <td>2196</td>\n",
       "      <td>Typ</td>\n",
       "      <td>0</td>\n",
       "      <td>0</td>\n",
       "      <td>2009</td>\n",
       "      <td>WD</td>\n",
       "      <td>12.513190</td>\n",
       "    </tr>\n",
       "    <tr>\n",
       "      <th>2</th>\n",
       "      <td>137500</td>\n",
       "      <td>916176030</td>\n",
       "      <td>NaN</td>\n",
       "      <td>14375</td>\n",
       "      <td>Pave</td>\n",
       "      <td>Timber</td>\n",
       "      <td>1Fam</td>\n",
       "      <td>SLvl</td>\n",
       "      <td>6</td>\n",
       "      <td>6</td>\n",
       "      <td>...</td>\n",
       "      <td>0</td>\n",
       "      <td>3</td>\n",
       "      <td>7</td>\n",
       "      <td>1344</td>\n",
       "      <td>Typ</td>\n",
       "      <td>233</td>\n",
       "      <td>0</td>\n",
       "      <td>2009</td>\n",
       "      <td>COD</td>\n",
       "      <td>11.831379</td>\n",
       "    </tr>\n",
       "    <tr>\n",
       "      <th>3</th>\n",
       "      <td>248500</td>\n",
       "      <td>528180130</td>\n",
       "      <td>48.0</td>\n",
       "      <td>6472</td>\n",
       "      <td>Pave</td>\n",
       "      <td>NridgHt</td>\n",
       "      <td>TwnhsE</td>\n",
       "      <td>1Story</td>\n",
       "      <td>9</td>\n",
       "      <td>5</td>\n",
       "      <td>...</td>\n",
       "      <td>0</td>\n",
       "      <td>2</td>\n",
       "      <td>6</td>\n",
       "      <td>1456</td>\n",
       "      <td>Typ</td>\n",
       "      <td>0</td>\n",
       "      <td>0</td>\n",
       "      <td>2009</td>\n",
       "      <td>WD</td>\n",
       "      <td>12.423198</td>\n",
       "    </tr>\n",
       "    <tr>\n",
       "      <th>4</th>\n",
       "      <td>167000</td>\n",
       "      <td>528290030</td>\n",
       "      <td>61.0</td>\n",
       "      <td>9734</td>\n",
       "      <td>Pave</td>\n",
       "      <td>Gilbert</td>\n",
       "      <td>1Fam</td>\n",
       "      <td>SLvl</td>\n",
       "      <td>7</td>\n",
       "      <td>5</td>\n",
       "      <td>...</td>\n",
       "      <td>1</td>\n",
       "      <td>3</td>\n",
       "      <td>7</td>\n",
       "      <td>1374</td>\n",
       "      <td>Typ</td>\n",
       "      <td>0</td>\n",
       "      <td>0</td>\n",
       "      <td>2009</td>\n",
       "      <td>WD</td>\n",
       "      <td>12.025749</td>\n",
       "    </tr>\n",
       "    <tr>\n",
       "      <th>...</th>\n",
       "      <td>...</td>\n",
       "      <td>...</td>\n",
       "      <td>...</td>\n",
       "      <td>...</td>\n",
       "      <td>...</td>\n",
       "      <td>...</td>\n",
       "      <td>...</td>\n",
       "      <td>...</td>\n",
       "      <td>...</td>\n",
       "      <td>...</td>\n",
       "      <td>...</td>\n",
       "      <td>...</td>\n",
       "      <td>...</td>\n",
       "      <td>...</td>\n",
       "      <td>...</td>\n",
       "      <td>...</td>\n",
       "      <td>...</td>\n",
       "      <td>...</td>\n",
       "      <td>...</td>\n",
       "      <td>...</td>\n",
       "      <td>...</td>\n",
       "    </tr>\n",
       "    <tr>\n",
       "      <th>2192</th>\n",
       "      <td>220000</td>\n",
       "      <td>906420020</td>\n",
       "      <td>80.0</td>\n",
       "      <td>10041</td>\n",
       "      <td>Pave</td>\n",
       "      <td>SawyerW</td>\n",
       "      <td>1Fam</td>\n",
       "      <td>2Story</td>\n",
       "      <td>8</td>\n",
       "      <td>5</td>\n",
       "      <td>...</td>\n",
       "      <td>1</td>\n",
       "      <td>3</td>\n",
       "      <td>8</td>\n",
       "      <td>1915</td>\n",
       "      <td>Typ</td>\n",
       "      <td>0</td>\n",
       "      <td>0</td>\n",
       "      <td>2006</td>\n",
       "      <td>WD</td>\n",
       "      <td>12.301383</td>\n",
       "    </tr>\n",
       "    <tr>\n",
       "      <th>2193</th>\n",
       "      <td>160000</td>\n",
       "      <td>909129090</td>\n",
       "      <td>70.0</td>\n",
       "      <td>6300</td>\n",
       "      <td>Pave</td>\n",
       "      <td>SWISU</td>\n",
       "      <td>1Fam</td>\n",
       "      <td>1.5Fin</td>\n",
       "      <td>5</td>\n",
       "      <td>4</td>\n",
       "      <td>...</td>\n",
       "      <td>1</td>\n",
       "      <td>3</td>\n",
       "      <td>7</td>\n",
       "      <td>1268</td>\n",
       "      <td>Typ</td>\n",
       "      <td>0</td>\n",
       "      <td>0</td>\n",
       "      <td>2009</td>\n",
       "      <td>WD</td>\n",
       "      <td>11.982929</td>\n",
       "    </tr>\n",
       "    <tr>\n",
       "      <th>2194</th>\n",
       "      <td>225000</td>\n",
       "      <td>528292060</td>\n",
       "      <td>41.0</td>\n",
       "      <td>12460</td>\n",
       "      <td>Pave</td>\n",
       "      <td>Gilbert</td>\n",
       "      <td>1Fam</td>\n",
       "      <td>2Story</td>\n",
       "      <td>7</td>\n",
       "      <td>5</td>\n",
       "      <td>...</td>\n",
       "      <td>1</td>\n",
       "      <td>4</td>\n",
       "      <td>8</td>\n",
       "      <td>2322</td>\n",
       "      <td>Typ</td>\n",
       "      <td>0</td>\n",
       "      <td>0</td>\n",
       "      <td>2008</td>\n",
       "      <td>WD</td>\n",
       "      <td>12.323856</td>\n",
       "    </tr>\n",
       "    <tr>\n",
       "      <th>2195</th>\n",
       "      <td>83000</td>\n",
       "      <td>905426060</td>\n",
       "      <td>85.0</td>\n",
       "      <td>10625</td>\n",
       "      <td>Pave</td>\n",
       "      <td>Edwards</td>\n",
       "      <td>1Fam</td>\n",
       "      <td>1Story</td>\n",
       "      <td>5</td>\n",
       "      <td>5</td>\n",
       "      <td>...</td>\n",
       "      <td>0</td>\n",
       "      <td>2</td>\n",
       "      <td>5</td>\n",
       "      <td>835</td>\n",
       "      <td>Typ</td>\n",
       "      <td>0</td>\n",
       "      <td>0</td>\n",
       "      <td>2010</td>\n",
       "      <td>COD</td>\n",
       "      <td>11.326596</td>\n",
       "    </tr>\n",
       "    <tr>\n",
       "      <th>2196</th>\n",
       "      <td>250000</td>\n",
       "      <td>528142020</td>\n",
       "      <td>74.0</td>\n",
       "      <td>8899</td>\n",
       "      <td>Pave</td>\n",
       "      <td>NridgHt</td>\n",
       "      <td>1Fam</td>\n",
       "      <td>2Story</td>\n",
       "      <td>8</td>\n",
       "      <td>5</td>\n",
       "      <td>...</td>\n",
       "      <td>1</td>\n",
       "      <td>4</td>\n",
       "      <td>10</td>\n",
       "      <td>2088</td>\n",
       "      <td>Typ</td>\n",
       "      <td>0</td>\n",
       "      <td>0</td>\n",
       "      <td>2008</td>\n",
       "      <td>WD</td>\n",
       "      <td>12.429216</td>\n",
       "    </tr>\n",
       "  </tbody>\n",
       "</table>\n",
       "<p>2197 rows × 26 columns</p>\n",
       "</div>"
      ],
      "text/plain": [
       "      SalePrice        PID  Lot Frontage  Lot Area Street Neighborhood  \\\n",
       "0        159000  531363010          80.0      9605   Pave      SawyerW   \n",
       "1        271900  906203120          90.0     14684   Pave      SawyerW   \n",
       "2        137500  916176030           NaN     14375   Pave       Timber   \n",
       "3        248500  528180130          48.0      6472   Pave      NridgHt   \n",
       "4        167000  528290030          61.0      9734   Pave      Gilbert   \n",
       "...         ...        ...           ...       ...    ...          ...   \n",
       "2192     220000  906420020          80.0     10041   Pave      SawyerW   \n",
       "2193     160000  909129090          70.0      6300   Pave        SWISU   \n",
       "2194     225000  528292060          41.0     12460   Pave      Gilbert   \n",
       "2195      83000  905426060          85.0     10625   Pave      Edwards   \n",
       "2196     250000  528142020          74.0      8899   Pave      NridgHt   \n",
       "\n",
       "     Bldg Type House Style  Overall Qual  Overall Cond  ...  Half Bath  \\\n",
       "0         1Fam      1Story             7             6  ...          1   \n",
       "1         1Fam      1Story             7             7  ...          0   \n",
       "2         1Fam        SLvl             6             6  ...          0   \n",
       "3       TwnhsE      1Story             9             5  ...          0   \n",
       "4         1Fam        SLvl             7             5  ...          1   \n",
       "...        ...         ...           ...           ...  ...        ...   \n",
       "2192      1Fam      2Story             8             5  ...          1   \n",
       "2193      1Fam      1.5Fin             5             4  ...          1   \n",
       "2194      1Fam      2Story             7             5  ...          1   \n",
       "2195      1Fam      1Story             5             5  ...          0   \n",
       "2196      1Fam      2Story             8             5  ...          1   \n",
       "\n",
       "     Bedroom AbvGr TotRms AbvGrd Gr Liv Area Functional  Screen Porch  \\\n",
       "0                3             6        1218        Typ             0   \n",
       "1                3             7        2196        Typ             0   \n",
       "2                3             7        1344        Typ           233   \n",
       "3                2             6        1456        Typ             0   \n",
       "4                3             7        1374        Typ             0   \n",
       "...            ...           ...         ...        ...           ...   \n",
       "2192             3             8        1915        Typ             0   \n",
       "2193             3             7        1268        Typ             0   \n",
       "2194             4             8        2322        Typ             0   \n",
       "2195             2             5         835        Typ             0   \n",
       "2196             4            10        2088        Typ             0   \n",
       "\n",
       "      Pool Area  Yr Sold  Sale Type  LogSalePrice  \n",
       "0             0     2009         WD     11.976659  \n",
       "1             0     2009         WD     12.513190  \n",
       "2             0     2009        COD     11.831379  \n",
       "3             0     2009         WD     12.423198  \n",
       "4             0     2009         WD     12.025749  \n",
       "...         ...      ...        ...           ...  \n",
       "2192          0     2006         WD     12.301383  \n",
       "2193          0     2009         WD     11.982929  \n",
       "2194          0     2008         WD     12.323856  \n",
       "2195          0     2010        COD     11.326596  \n",
       "2196          0     2008         WD     12.429216  \n",
       "\n",
       "[2197 rows x 26 columns]"
      ]
     },
     "execution_count": 29,
     "metadata": {},
     "output_type": "execute_result"
    }
   ],
   "source": [
    "train"
   ]
  },
  {
   "cell_type": "code",
   "execution_count": 30,
   "id": "485de1e8-f7a7-4f0b-9d5b-58969cee3e0f",
   "metadata": {
    "tags": []
   },
   "outputs": [
    {
     "data": {
      "text/plain": [
       "Index(['SalePrice', 'PID', 'Lot Frontage', 'Lot Area', 'Street',\n",
       "       'Neighborhood', 'Bldg Type', 'House Style', 'Overall Qual',\n",
       "       'Overall Cond', 'Year Built', 'Roof Style', 'Heating', 'Central Air',\n",
       "       'Electrical', 'Full Bath', 'Half Bath', 'Bedroom AbvGr',\n",
       "       'TotRms AbvGrd', 'Gr Liv Area', 'Functional', 'Screen Porch',\n",
       "       'Pool Area', 'Yr Sold', 'Sale Type', 'LogSalePrice'],\n",
       "      dtype='object')"
      ]
     },
     "execution_count": 30,
     "metadata": {},
     "output_type": "execute_result"
    }
   ],
   "source": [
    "train.columns"
   ]
  },
  {
   "cell_type": "code",
   "execution_count": 31,
   "id": "8c6b2a07-71d1-416e-9f39-2d1b820553c2",
   "metadata": {
    "tags": []
   },
   "outputs": [],
   "source": [
    "y_train = train['SalePrice']\n",
    "X_train = train.drop(['SalePrice','PID'],axis=1)"
   ]
  },
  {
   "cell_type": "code",
   "execution_count": 33,
   "id": "734a7812-2dae-4c50-8a96-1f620111eadd",
   "metadata": {
    "tags": []
   },
   "outputs": [
    {
     "data": {
      "text/plain": [
       "<Axes: title={'center': 'Missing Value Counts'}, ylabel='Frequency'>"
      ]
     },
     "execution_count": 33,
     "metadata": {},
     "output_type": "execute_result"
    },
    {
     "data": {
      "image/png": "[encoded data removed]",
      "text/plain": [
       "<Figure size 1200x500 with 1 Axes>"
      ]
     },
     "metadata": {},
     "output_type": "display_data"
    }
   ],
   "source": [
    "#Show features with at least some NaN values\n",
    "null_counts = train.isnull().sum()\n",
    "null_cols = []\n",
    "##print(\"Percentage of null values in each column:\\n\")\n",
    "for i in range(len(null_counts)):\n",
    "    if null_counts[i] != 0:\n",
    "        #print(null_counts.index[i], null_counts[i]/len(train))\n",
    "        null_cols.append(null_counts.index[i])\n",
    "# Plot missing values.\n",
    "# Number of \"NA\" in each column.\n",
    "na_series = train.isnull().sum().sort_values()\n",
    "na_series[na_series.values >0].plot(kind='bar',figsize=(12,5), rot=60,ylabel = 'Frequency', \n",
    "               title = 'Missing Value Counts')\n",
    "\n",
    "#Might consider dropping lot-frontage because it has like 20% missing"
   ]
  },
  {
   "cell_type": "code",
   "execution_count": 34,
   "id": "be4ee7cd-a76e-4917-9b89-0db743f9eef6",
   "metadata": {
    "tags": []
   },
   "outputs": [
    {
     "data": {
      "text/html": [
       "<div>\n",
       "<style scoped>\n",
       "    .dataframe tbody tr th:only-of-type {\n",
       "        vertical-align: middle;\n",
       "    }\n",
       "\n",
       "    .dataframe tbody tr th {\n",
       "        vertical-align: top;\n",
       "    }\n",
       "\n",
       "    .dataframe thead th {\n",
       "        text-align: right;\n",
       "    }\n",
       "</style>\n",
       "<table border=\"1\" class=\"dataframe\">\n",
       "  <thead>\n",
       "    <tr style=\"text-align: right;\">\n",
       "      <th></th>\n",
       "      <th>SalePrice</th>\n",
       "      <th>PID</th>\n",
       "      <th>Lot Frontage</th>\n",
       "      <th>Lot Area</th>\n",
       "      <th>Street</th>\n",
       "      <th>Neighborhood</th>\n",
       "      <th>Bldg Type</th>\n",
       "      <th>House Style</th>\n",
       "      <th>Overall Qual</th>\n",
       "      <th>Overall Cond</th>\n",
       "      <th>...</th>\n",
       "      <th>Half Bath</th>\n",
       "      <th>Bedroom AbvGr</th>\n",
       "      <th>TotRms AbvGrd</th>\n",
       "      <th>Gr Liv Area</th>\n",
       "      <th>Functional</th>\n",
       "      <th>Screen Porch</th>\n",
       "      <th>Pool Area</th>\n",
       "      <th>Yr Sold</th>\n",
       "      <th>Sale Type</th>\n",
       "      <th>LogSalePrice</th>\n",
       "    </tr>\n",
       "  </thead>\n",
       "  <tbody>\n",
       "    <tr>\n",
       "      <th>280</th>\n",
       "      <td>167500</td>\n",
       "      <td>916386080</td>\n",
       "      <td>73.0</td>\n",
       "      <td>9735</td>\n",
       "      <td>Pave</td>\n",
       "      <td>Timber</td>\n",
       "      <td>1Fam</td>\n",
       "      <td>SLvl</td>\n",
       "      <td>5</td>\n",
       "      <td>5</td>\n",
       "      <td>...</td>\n",
       "      <td>1</td>\n",
       "      <td>3</td>\n",
       "      <td>7</td>\n",
       "      <td>1394</td>\n",
       "      <td>Typ</td>\n",
       "      <td>0</td>\n",
       "      <td>0</td>\n",
       "      <td>2008</td>\n",
       "      <td>WD</td>\n",
       "      <td>12.028739</td>\n",
       "    </tr>\n",
       "  </tbody>\n",
       "</table>\n",
       "<p>1 rows × 26 columns</p>\n",
       "</div>"
      ],
      "text/plain": [
       "     SalePrice        PID  Lot Frontage  Lot Area Street Neighborhood  \\\n",
       "280     167500  916386080          73.0      9735   Pave       Timber   \n",
       "\n",
       "    Bldg Type House Style Overall Qual Overall Cond  ...  Half Bath  \\\n",
       "280      1Fam        SLvl            5            5  ...          1   \n",
       "\n",
       "    Bedroom AbvGr TotRms AbvGrd Gr Liv Area Functional  Screen Porch  \\\n",
       "280             3             7        1394        Typ             0   \n",
       "\n",
       "     Pool Area  Yr Sold  Sale Type  LogSalePrice  \n",
       "280          0     2008         WD     12.028739  \n",
       "\n",
       "[1 rows x 26 columns]"
      ]
     },
     "execution_count": 34,
     "metadata": {},
     "output_type": "execute_result"
    }
   ],
   "source": [
    "train[train['Electrical'].isna()]"
   ]
  },
  {
   "cell_type": "code",
   "execution_count": 35,
   "id": "a89ce9d2-8f85-4b9b-9f50-85c7b99e3c76",
   "metadata": {
    "tags": []
   },
   "outputs": [
    {
     "data": {
      "text/html": [
       "<div>\n",
       "<style scoped>\n",
       "    .dataframe tbody tr th:only-of-type {\n",
       "        vertical-align: middle;\n",
       "    }\n",
       "\n",
       "    .dataframe tbody tr th {\n",
       "        vertical-align: top;\n",
       "    }\n",
       "\n",
       "    .dataframe thead th {\n",
       "        text-align: right;\n",
       "    }\n",
       "</style>\n",
       "<table border=\"1\" class=\"dataframe\">\n",
       "  <thead>\n",
       "    <tr style=\"text-align: right;\">\n",
       "      <th></th>\n",
       "      <th>SalePrice</th>\n",
       "      <th>PID</th>\n",
       "      <th>Lot Frontage</th>\n",
       "      <th>Lot Area</th>\n",
       "      <th>Street</th>\n",
       "      <th>Neighborhood</th>\n",
       "      <th>Bldg Type</th>\n",
       "      <th>House Style</th>\n",
       "      <th>Overall Qual</th>\n",
       "      <th>Overall Cond</th>\n",
       "      <th>...</th>\n",
       "      <th>Half Bath</th>\n",
       "      <th>Bedroom AbvGr</th>\n",
       "      <th>TotRms AbvGrd</th>\n",
       "      <th>Gr Liv Area</th>\n",
       "      <th>Functional</th>\n",
       "      <th>Screen Porch</th>\n",
       "      <th>Pool Area</th>\n",
       "      <th>Yr Sold</th>\n",
       "      <th>Sale Type</th>\n",
       "      <th>LogSalePrice</th>\n",
       "    </tr>\n",
       "  </thead>\n",
       "  <tbody>\n",
       "    <tr>\n",
       "      <th>0</th>\n",
       "      <td>159000</td>\n",
       "      <td>531363010</td>\n",
       "      <td>80.0</td>\n",
       "      <td>9605</td>\n",
       "      <td>Pave</td>\n",
       "      <td>SawyerW</td>\n",
       "      <td>1Fam</td>\n",
       "      <td>1Story</td>\n",
       "      <td>7</td>\n",
       "      <td>6</td>\n",
       "      <td>...</td>\n",
       "      <td>1</td>\n",
       "      <td>3</td>\n",
       "      <td>6</td>\n",
       "      <td>1218</td>\n",
       "      <td>Typ</td>\n",
       "      <td>0</td>\n",
       "      <td>0</td>\n",
       "      <td>2009</td>\n",
       "      <td>WD</td>\n",
       "      <td>11.976659</td>\n",
       "    </tr>\n",
       "    <tr>\n",
       "      <th>1</th>\n",
       "      <td>271900</td>\n",
       "      <td>906203120</td>\n",
       "      <td>90.0</td>\n",
       "      <td>14684</td>\n",
       "      <td>Pave</td>\n",
       "      <td>SawyerW</td>\n",
       "      <td>1Fam</td>\n",
       "      <td>1Story</td>\n",
       "      <td>7</td>\n",
       "      <td>7</td>\n",
       "      <td>...</td>\n",
       "      <td>0</td>\n",
       "      <td>3</td>\n",
       "      <td>7</td>\n",
       "      <td>2196</td>\n",
       "      <td>Typ</td>\n",
       "      <td>0</td>\n",
       "      <td>0</td>\n",
       "      <td>2009</td>\n",
       "      <td>WD</td>\n",
       "      <td>12.513190</td>\n",
       "    </tr>\n",
       "    <tr>\n",
       "      <th>2</th>\n",
       "      <td>137500</td>\n",
       "      <td>916176030</td>\n",
       "      <td>NaN</td>\n",
       "      <td>14375</td>\n",
       "      <td>Pave</td>\n",
       "      <td>Timber</td>\n",
       "      <td>1Fam</td>\n",
       "      <td>SLvl</td>\n",
       "      <td>6</td>\n",
       "      <td>6</td>\n",
       "      <td>...</td>\n",
       "      <td>0</td>\n",
       "      <td>3</td>\n",
       "      <td>7</td>\n",
       "      <td>1344</td>\n",
       "      <td>Typ</td>\n",
       "      <td>233</td>\n",
       "      <td>0</td>\n",
       "      <td>2009</td>\n",
       "      <td>COD</td>\n",
       "      <td>11.831379</td>\n",
       "    </tr>\n",
       "    <tr>\n",
       "      <th>3</th>\n",
       "      <td>248500</td>\n",
       "      <td>528180130</td>\n",
       "      <td>48.0</td>\n",
       "      <td>6472</td>\n",
       "      <td>Pave</td>\n",
       "      <td>NridgHt</td>\n",
       "      <td>TwnhsE</td>\n",
       "      <td>1Story</td>\n",
       "      <td>9</td>\n",
       "      <td>5</td>\n",
       "      <td>...</td>\n",
       "      <td>0</td>\n",
       "      <td>2</td>\n",
       "      <td>6</td>\n",
       "      <td>1456</td>\n",
       "      <td>Typ</td>\n",
       "      <td>0</td>\n",
       "      <td>0</td>\n",
       "      <td>2009</td>\n",
       "      <td>WD</td>\n",
       "      <td>12.423198</td>\n",
       "    </tr>\n",
       "    <tr>\n",
       "      <th>4</th>\n",
       "      <td>167000</td>\n",
       "      <td>528290030</td>\n",
       "      <td>61.0</td>\n",
       "      <td>9734</td>\n",
       "      <td>Pave</td>\n",
       "      <td>Gilbert</td>\n",
       "      <td>1Fam</td>\n",
       "      <td>SLvl</td>\n",
       "      <td>7</td>\n",
       "      <td>5</td>\n",
       "      <td>...</td>\n",
       "      <td>1</td>\n",
       "      <td>3</td>\n",
       "      <td>7</td>\n",
       "      <td>1374</td>\n",
       "      <td>Typ</td>\n",
       "      <td>0</td>\n",
       "      <td>0</td>\n",
       "      <td>2009</td>\n",
       "      <td>WD</td>\n",
       "      <td>12.025749</td>\n",
       "    </tr>\n",
       "    <tr>\n",
       "      <th>...</th>\n",
       "      <td>...</td>\n",
       "      <td>...</td>\n",
       "      <td>...</td>\n",
       "      <td>...</td>\n",
       "      <td>...</td>\n",
       "      <td>...</td>\n",
       "      <td>...</td>\n",
       "      <td>...</td>\n",
       "      <td>...</td>\n",
       "      <td>...</td>\n",
       "      <td>...</td>\n",
       "      <td>...</td>\n",
       "      <td>...</td>\n",
       "      <td>...</td>\n",
       "      <td>...</td>\n",
       "      <td>...</td>\n",
       "      <td>...</td>\n",
       "      <td>...</td>\n",
       "      <td>...</td>\n",
       "      <td>...</td>\n",
       "      <td>...</td>\n",
       "    </tr>\n",
       "    <tr>\n",
       "      <th>2192</th>\n",
       "      <td>220000</td>\n",
       "      <td>906420020</td>\n",
       "      <td>80.0</td>\n",
       "      <td>10041</td>\n",
       "      <td>Pave</td>\n",
       "      <td>SawyerW</td>\n",
       "      <td>1Fam</td>\n",
       "      <td>2Story</td>\n",
       "      <td>8</td>\n",
       "      <td>5</td>\n",
       "      <td>...</td>\n",
       "      <td>1</td>\n",
       "      <td>3</td>\n",
       "      <td>8</td>\n",
       "      <td>1915</td>\n",
       "      <td>Typ</td>\n",
       "      <td>0</td>\n",
       "      <td>0</td>\n",
       "      <td>2006</td>\n",
       "      <td>WD</td>\n",
       "      <td>12.301383</td>\n",
       "    </tr>\n",
       "    <tr>\n",
       "      <th>2193</th>\n",
       "      <td>160000</td>\n",
       "      <td>909129090</td>\n",
       "      <td>70.0</td>\n",
       "      <td>6300</td>\n",
       "      <td>Pave</td>\n",
       "      <td>SWISU</td>\n",
       "      <td>1Fam</td>\n",
       "      <td>1.5Fin</td>\n",
       "      <td>5</td>\n",
       "      <td>4</td>\n",
       "      <td>...</td>\n",
       "      <td>1</td>\n",
       "      <td>3</td>\n",
       "      <td>7</td>\n",
       "      <td>1268</td>\n",
       "      <td>Typ</td>\n",
       "      <td>0</td>\n",
       "      <td>0</td>\n",
       "      <td>2009</td>\n",
       "      <td>WD</td>\n",
       "      <td>11.982929</td>\n",
       "    </tr>\n",
       "    <tr>\n",
       "      <th>2194</th>\n",
       "      <td>225000</td>\n",
       "      <td>528292060</td>\n",
       "      <td>41.0</td>\n",
       "      <td>12460</td>\n",
       "      <td>Pave</td>\n",
       "      <td>Gilbert</td>\n",
       "      <td>1Fam</td>\n",
       "      <td>2Story</td>\n",
       "      <td>7</td>\n",
       "      <td>5</td>\n",
       "      <td>...</td>\n",
       "      <td>1</td>\n",
       "      <td>4</td>\n",
       "      <td>8</td>\n",
       "      <td>2322</td>\n",
       "      <td>Typ</td>\n",
       "      <td>0</td>\n",
       "      <td>0</td>\n",
       "      <td>2008</td>\n",
       "      <td>WD</td>\n",
       "      <td>12.323856</td>\n",
       "    </tr>\n",
       "    <tr>\n",
       "      <th>2195</th>\n",
       "      <td>83000</td>\n",
       "      <td>905426060</td>\n",
       "      <td>85.0</td>\n",
       "      <td>10625</td>\n",
       "      <td>Pave</td>\n",
       "      <td>Edwards</td>\n",
       "      <td>1Fam</td>\n",
       "      <td>1Story</td>\n",
       "      <td>5</td>\n",
       "      <td>5</td>\n",
       "      <td>...</td>\n",
       "      <td>0</td>\n",
       "      <td>2</td>\n",
       "      <td>5</td>\n",
       "      <td>835</td>\n",
       "      <td>Typ</td>\n",
       "      <td>0</td>\n",
       "      <td>0</td>\n",
       "      <td>2010</td>\n",
       "      <td>COD</td>\n",
       "      <td>11.326596</td>\n",
       "    </tr>\n",
       "    <tr>\n",
       "      <th>2196</th>\n",
       "      <td>250000</td>\n",
       "      <td>528142020</td>\n",
       "      <td>74.0</td>\n",
       "      <td>8899</td>\n",
       "      <td>Pave</td>\n",
       "      <td>NridgHt</td>\n",
       "      <td>1Fam</td>\n",
       "      <td>2Story</td>\n",
       "      <td>8</td>\n",
       "      <td>5</td>\n",
       "      <td>...</td>\n",
       "      <td>1</td>\n",
       "      <td>4</td>\n",
       "      <td>10</td>\n",
       "      <td>2088</td>\n",
       "      <td>Typ</td>\n",
       "      <td>0</td>\n",
       "      <td>0</td>\n",
       "      <td>2008</td>\n",
       "      <td>WD</td>\n",
       "      <td>12.429216</td>\n",
       "    </tr>\n",
       "  </tbody>\n",
       "</table>\n",
       "<p>2196 rows × 26 columns</p>\n",
       "</div>"
      ],
      "text/plain": [
       "      SalePrice        PID  Lot Frontage  Lot Area Street Neighborhood  \\\n",
       "0        159000  531363010          80.0      9605   Pave      SawyerW   \n",
       "1        271900  906203120          90.0     14684   Pave      SawyerW   \n",
       "2        137500  916176030           NaN     14375   Pave       Timber   \n",
       "3        248500  528180130          48.0      6472   Pave      NridgHt   \n",
       "4        167000  528290030          61.0      9734   Pave      Gilbert   \n",
       "...         ...        ...           ...       ...    ...          ...   \n",
       "2192     220000  906420020          80.0     10041   Pave      SawyerW   \n",
       "2193     160000  909129090          70.0      6300   Pave        SWISU   \n",
       "2194     225000  528292060          41.0     12460   Pave      Gilbert   \n",
       "2195      83000  905426060          85.0     10625   Pave      Edwards   \n",
       "2196     250000  528142020          74.0      8899   Pave      NridgHt   \n",
       "\n",
       "     Bldg Type House Style Overall Qual Overall Cond  ...  Half Bath  \\\n",
       "0         1Fam      1Story            7            6  ...          1   \n",
       "1         1Fam      1Story            7            7  ...          0   \n",
       "2         1Fam        SLvl            6            6  ...          0   \n",
       "3       TwnhsE      1Story            9            5  ...          0   \n",
       "4         1Fam        SLvl            7            5  ...          1   \n",
       "...        ...         ...          ...          ...  ...        ...   \n",
       "2192      1Fam      2Story            8            5  ...          1   \n",
       "2193      1Fam      1.5Fin            5            4  ...          1   \n",
       "2194      1Fam      2Story            7            5  ...          1   \n",
       "2195      1Fam      1Story            5            5  ...          0   \n",
       "2196      1Fam      2Story            8            5  ...          1   \n",
       "\n",
       "     Bedroom AbvGr TotRms AbvGrd Gr Liv Area Functional  Screen Porch  \\\n",
       "0                3             6        1218        Typ             0   \n",
       "1                3             7        2196        Typ             0   \n",
       "2                3             7        1344        Typ           233   \n",
       "3                2             6        1456        Typ             0   \n",
       "4                3             7        1374        Typ             0   \n",
       "...            ...           ...         ...        ...           ...   \n",
       "2192             3             8        1915        Typ             0   \n",
       "2193             3             7        1268        Typ             0   \n",
       "2194             4             8        2322        Typ             0   \n",
       "2195             2             5         835        Typ             0   \n",
       "2196             4            10        2088        Typ             0   \n",
       "\n",
       "      Pool Area  Yr Sold  Sale Type  LogSalePrice  \n",
       "0             0     2009         WD     11.976659  \n",
       "1             0     2009         WD     12.513190  \n",
       "2             0     2009        COD     11.831379  \n",
       "3             0     2009         WD     12.423198  \n",
       "4             0     2009         WD     12.025749  \n",
       "...         ...      ...        ...           ...  \n",
       "2192          0     2006         WD     12.301383  \n",
       "2193          0     2009         WD     11.982929  \n",
       "2194          0     2008         WD     12.323856  \n",
       "2195          0     2010        COD     11.326596  \n",
       "2196          0     2008         WD     12.429216  \n",
       "\n",
       "[2196 rows x 26 columns]"
      ]
     },
     "execution_count": 35,
     "metadata": {},
     "output_type": "execute_result"
    }
   ],
   "source": [
    "#Delete row 280\n",
    "train = train.drop(index=280)\n",
    "train"
   ]
  },
  {
   "cell_type": "code",
   "execution_count": 36,
   "id": "5c5fcd4c-64af-42dd-9d39-d7cbc5af3e13",
   "metadata": {
    "tags": []
   },
   "outputs": [],
   "source": [
    "#Three approaches, drop lot, or drop rows, or fill in with 0s\n",
    "train_row_drop = train.dropna()\n",
    "train_lotless = train.drop(['Lot Frontage'],axis=1)\n",
    "train_fill = train.fillna(value=0)\n",
    "#Trying each below with different models and some polynomial terms"
   ]
  },
  {
   "cell_type": "markdown",
   "id": "b48b13f2-6727-483c-9eb7-8466ac57c917",
   "metadata": {
    "tags": []
   },
   "source": [
    "# Models"
   ]
  },
  {
   "cell_type": "markdown",
   "id": "b756a30c-c5e5-4eda-a50c-bd329239ede1",
   "metadata": {
    "tags": []
   },
   "source": [
    "# Train_fill"
   ]
  },
  {
   "cell_type": "code",
   "execution_count": 37,
   "id": "6a969818-98e6-4426-942e-8f3c2a121075",
   "metadata": {
    "tags": []
   },
   "outputs": [],
   "source": [
    "X_train = train_fill.drop(['LogSalePrice','SalePrice','PID'],axis=1)\n",
    "y_train = train_fill['LogSalePrice']\n"
   ]
  },
  {
   "cell_type": "code",
   "execution_count": 110,
   "id": "8f078e01-837f-4c1d-aabc-21008a52d18c",
   "metadata": {
    "tags": []
   },
   "outputs": [],
   "source": [
    "ct = ColumnTransformer(\n",
    "  [\n",
    "    (\"dummify\", #Dummifying variables that need it\n",
    "    OneHotEncoder(sparse_output = False, handle_unknown='ignore'), #If we haven't trained on a column, don't use for predicting on test validation\n",
    "    make_column_selector(dtype_include=object)),\n",
    "    (\"standardize\", \n",
    "    StandardScaler(), \n",
    "    make_column_selector(dtype_include=np.number))\n",
    "  ],\n",
    "  remainder = \"passthrough\"\n",
    ")"
   ]
  },
  {
   "cell_type": "code",
   "execution_count": 60,
   "id": "24ac5705-d5eb-4311-a986-0333ac874111",
   "metadata": {
    "tags": []
   },
   "outputs": [],
   "source": [
    "poly = PolynomialFeatures(degree=2, interaction_only = False,include_bias=False)"
   ]
  },
  {
   "cell_type": "markdown",
   "id": "9249e547-2df9-46e2-a8c0-2fcf0cdc6fea",
   "metadata": {},
   "source": [
    "## Regression"
   ]
  },
  {
   "cell_type": "code",
   "execution_count": 59,
   "id": "f04eb3ae-e41c-4a6c-be91-1bbf068d22fd",
   "metadata": {
    "tags": []
   },
   "outputs": [
    {
     "name": "stdout",
     "output_type": "stream",
     "text": [
      "Best model Score: 14307392260.036636\n",
      "That model's value: {}\n"
     ]
    }
   ],
   "source": [
    "from sklearn.linear_model import ElasticNet\n",
    "pipe = Pipeline([\n",
    "    (\"preprocessing\", ct),\n",
    "    (\"poly_terms\",poly),\n",
    "    (\"model\", LinearRegression())\n",
    "])\n",
    "\n",
    "#Grid search grid\n",
    "grid = {'model__n_neighbors': list(range(2,10,2))}  # Values for n_neighbors to be tested\n",
    "grid={}\n",
    "#Grid search with cross validation\n",
    "grid_search = GridSearchCV(pipe, grid, cv=10, scoring='neg_root_mean_squared_error')\n",
    "grid_search.fit(X_train, y_train)\n",
    "\n",
    "#Get best n and corresponding model score\n",
    "best_n = grid_search.best_params_\n",
    "best_score = grid_search.best_score_\n",
    "\n",
    "print(\"Best model Score:\", -best_score)\n",
    "print(\"That model's value:\", best_n)"
   ]
  },
  {
   "cell_type": "markdown",
   "id": "7353286d-6714-474f-bacd-f732faeede7d",
   "metadata": {},
   "source": [
    "## ElasticNet"
   ]
  },
  {
   "cell_type": "code",
   "execution_count": 44,
   "id": "66896b7e-a7e2-4bee-80ae-115f11e60631",
   "metadata": {
    "tags": []
   },
   "outputs": [
    {
     "name": "stdout",
     "output_type": "stream",
     "text": [
      "Best model Score: 0.40994972747200026\n",
      "That model's value: {}\n"
     ]
    }
   ],
   "source": [
    "from sklearn.linear_model import ElasticNet\n",
    "pipe = Pipeline([\n",
    "    (\"preprocessing\", ct),\n",
    "    (\"model\", ElasticNet())\n",
    "])\n",
    "\n",
    "#Grid search grid\n",
    "grid = {'model__n_neighbors': list(range(2,10,2))}  # Values for n_neighbors to be tested\n",
    "grid={}\n",
    "#Grid search with cross validation\n",
    "grid_search = GridSearchCV(pipe, grid, cv=10, scoring='neg_root_mean_squared_error')\n",
    "grid_search.fit(X_train, y_train)\n",
    "\n",
    "#Get best n and corresponding model score\n",
    "best_n = grid_search.best_params_\n",
    "best_score = grid_search.best_score_\n",
    "\n",
    "print(\"Best model Score:\", -best_score)\n",
    "print(\"That model's value:\", best_n)"
   ]
  },
  {
   "cell_type": "markdown",
   "id": "a93ff254-37b8-43a7-af03-0e32f41a5760",
   "metadata": {},
   "source": [
    "## KNN"
   ]
  },
  {
   "cell_type": "code",
   "execution_count": 49,
   "id": "c0af95ed-058d-41e3-86bf-34a5d376c242",
   "metadata": {
    "tags": []
   },
   "outputs": [
    {
     "name": "stdout",
     "output_type": "stream",
     "text": [
      "Best model Score: 0.17997519923749217\n",
      "That model's value: {}\n"
     ]
    }
   ],
   "source": [
    "from sklearn.linear_model import ElasticNet\n",
    "pipe = Pipeline([\n",
    "    (\"preprocessing\", ct),\n",
    "    (\"model\", KNeighborsRegressor())\n",
    "])\n",
    "\n",
    "#Grid search grid\n",
    "grid = {'model__n_neighbors': list(range(2,10,2))}  # Values for n_neighbors to be tested\n",
    "grid={}\n",
    "#Grid search with cross validation\n",
    "grid_search = GridSearchCV(pipe, grid, cv=10, scoring='neg_root_mean_squared_error')\n",
    "grid_search.fit(X_train, y_train)\n",
    "\n",
    "#Get best n and corresponding model score\n",
    "best_n = grid_search.best_params_\n",
    "best_score = grid_search.best_score_\n",
    "\n",
    "print(\"Best model Score:\", -best_score)\n",
    "print(\"That model's value:\", best_n)"
   ]
  },
  {
   "cell_type": "code",
   "execution_count": 64,
   "id": "05afdc2d-71a7-48b5-a12e-4a5a385979bc",
   "metadata": {
    "tags": []
   },
   "outputs": [
    {
     "name": "stdout",
     "output_type": "stream",
     "text": [
      "Best model Score: 0.1863064540270806\n",
      "That model's value: {}\n"
     ]
    }
   ],
   "source": [
    "from sklearn.linear_model import ElasticNet\n",
    "pipe = Pipeline([\n",
    "    (\"preprocessing\", ct),\n",
    "    (\"poly_terms\",poly),\n",
    "    (\"model\", KNeighborsRegressor())\n",
    "])\n",
    "\n",
    "#Grid search grid\n",
    "grid = {'model__n_neighbors': list(range(2,10,2))}  # Values for n_neighbors to be tested\n",
    "grid={}\n",
    "#Grid search with cross validation\n",
    "grid_search = GridSearchCV(pipe, grid, cv=10, scoring='neg_root_mean_squared_error')\n",
    "grid_search.fit(X_train, y_train)\n",
    "\n",
    "#Get best n and corresponding model score\n",
    "best_n = grid_search.best_params_\n",
    "best_score = grid_search.best_score_\n",
    "\n",
    "print(\"Best model Score:\", -best_score)\n",
    "print(\"That model's value:\", best_n)"
   ]
  },
  {
   "cell_type": "markdown",
   "id": "e54f8cbf-37c4-4868-aad0-3287e18184a0",
   "metadata": {},
   "source": [
    "## Decision Tree"
   ]
  },
  {
   "cell_type": "code",
   "execution_count": 51,
   "id": "346ffe2d-7826-4ebf-aad2-b5461c7c5f9e",
   "metadata": {
    "tags": []
   },
   "outputs": [
    {
     "name": "stdout",
     "output_type": "stream",
     "text": [
      "Best model Score: 0.2048326381315384\n",
      "That model's value: {}\n"
     ]
    }
   ],
   "source": [
    "from sklearn.linear_model import ElasticNet\n",
    "pipe = Pipeline([\n",
    "    (\"preprocessing\", ct),\n",
    "    (\"model\", DecisionTreeRegressor())\n",
    "])\n",
    "\n",
    "#Grid search grid\n",
    "grid = {'model__n_neighbors': list(range(2,10,2))}  # Values for n_neighbors to be tested\n",
    "grid={}\n",
    "#Grid search with cross validation\n",
    "grid_search = GridSearchCV(pipe, grid, cv=10, scoring='neg_root_mean_squared_error')\n",
    "grid_search.fit(X_train, y_train)\n",
    "\n",
    "#Get best n and corresponding model score\n",
    "best_n = grid_search.best_params_\n",
    "best_score = grid_search.best_score_\n",
    "\n",
    "print(\"Best model Score:\", -best_score)\n",
    "print(\"That model's value:\", best_n)"
   ]
  },
  {
   "cell_type": "code",
   "execution_count": 63,
   "id": "178962d2-52d7-4388-90e4-28cb4f1730ab",
   "metadata": {
    "tags": []
   },
   "outputs": [
    {
     "name": "stdout",
     "output_type": "stream",
     "text": [
      "Best model Score: 0.20353378794421806\n",
      "That model's value: {}\n"
     ]
    }
   ],
   "source": [
    "from sklearn.linear_model import ElasticNet\n",
    "pipe = Pipeline([\n",
    "    (\"preprocessing\", ct),\n",
    "    (\"poly_terms\",poly),\n",
    "    (\"model\", DecisionTreeRegressor())\n",
    "])\n",
    "\n",
    "#Grid search grid\n",
    "grid = {'model__n_neighbors': list(range(2,10,2))}  # Values for n_neighbors to be tested\n",
    "grid={}\n",
    "#Grid search with cross validation\n",
    "grid_search = GridSearchCV(pipe, grid, cv=10, scoring='neg_root_mean_squared_error')\n",
    "grid_search.fit(X_train, y_train)\n",
    "\n",
    "#Get best n and corresponding model score\n",
    "best_n = grid_search.best_params_\n",
    "best_score = grid_search.best_score_\n",
    "\n",
    "print(\"Best model Score:\", -best_score)\n",
    "print(\"That model's value:\", best_n)"
   ]
  },
  {
   "cell_type": "markdown",
   "id": "6dd5bef7-0796-4e2b-813d-827aefc3acea",
   "metadata": {},
   "source": [
    "## GBR"
   ]
  },
  {
   "cell_type": "code",
   "execution_count": 46,
   "id": "54550ea4-0f9d-4c02-8dd8-d04dcf99be0b",
   "metadata": {
    "tags": []
   },
   "outputs": [
    {
     "name": "stdout",
     "output_type": "stream",
     "text": [
      "Best model Score: 0.1449860810787839\n",
      "That model's value: {}\n"
     ]
    }
   ],
   "source": [
    "from sklearn.ensemble import GradientBoostingRegressor\n",
    "pipe = Pipeline([\n",
    "    (\"preprocessing\", ct),\n",
    "    (\"model\", GradientBoostingRegressor())\n",
    "])\n",
    "\n",
    "#Grid search grid\n",
    "grid = {'model__n_neighbors': list(range(2,10,2))}  # Values for n_neighbors to be tested\n",
    "grid={}\n",
    "#Grid search with cross validation\n",
    "grid_search = GridSearchCV(pipe, grid, cv=10, scoring='neg_root_mean_squared_error')\n",
    "grid_search.fit(X_train, y_train)\n",
    "\n",
    "#Get best n and corresponding model score\n",
    "best_n = grid_search.best_params_\n",
    "best_score = grid_search.best_score_\n",
    "\n",
    "print(\"Best model Score:\", -best_score)\n",
    "print(\"That model's value:\", best_n)"
   ]
  },
  {
   "cell_type": "code",
   "execution_count": 62,
   "id": "608a3303-bc78-4852-bd50-d4283a945880",
   "metadata": {
    "tags": []
   },
   "outputs": [
    {
     "name": "stdout",
     "output_type": "stream",
     "text": [
      "Best model Score: 0.14562123520935819\n",
      "That model's value: {}\n"
     ]
    }
   ],
   "source": [
    "from sklearn.ensemble import GradientBoostingRegressor\n",
    "pipe = Pipeline([\n",
    "    (\"preprocessing\", ct),\n",
    "    (\"poly_terms\",poly),\n",
    "    (\"model\", GradientBoostingRegressor())\n",
    "])\n",
    "\n",
    "#Grid search grid\n",
    "grid = {'model__n_neighbors': list(range(2,10,2))}  # Values for n_neighbors to be tested\n",
    "grid={}\n",
    "#Grid search with cross validation\n",
    "grid_search = GridSearchCV(pipe, grid, cv=10, scoring='neg_root_mean_squared_error')\n",
    "grid_search.fit(X_train, y_train)\n",
    "\n",
    "#Get best n and corresponding model score\n",
    "best_n = grid_search.best_params_\n",
    "best_score = grid_search.best_score_\n",
    "\n",
    "print(\"Best model Score:\", -best_score)\n",
    "print(\"That model's value:\", best_n)"
   ]
  },
  {
   "cell_type": "markdown",
   "id": "d2f55932-e167-4821-9623-f97f07369343",
   "metadata": {},
   "source": [
    "## XGBoost"
   ]
  },
  {
   "cell_type": "code",
   "execution_count": 53,
   "id": "2115c734-ac4b-4f5b-8b6b-e8785f6be482",
   "metadata": {
    "tags": []
   },
   "outputs": [
    {
     "name": "stdout",
     "output_type": "stream",
     "text": [
      "Best model Score: 0.14318243526193145\n",
      "That model's value: {}\n"
     ]
    }
   ],
   "source": [
    "import xgboost as xgb\n",
    "pipe = Pipeline([\n",
    "    (\"preprocessing\", ct),\n",
    "    (\"model\", xgb.XGBRegressor())\n",
    "])\n",
    "#Grid search grid\n",
    "grid = {'model__n_neighbors': list(range(2,10,2))}  # Values for n_neighbors to be tested\n",
    "grid={}\n",
    "#Grid search with cross validation\n",
    "grid_search = GridSearchCV(pipe, grid, cv=10, scoring='neg_root_mean_squared_error')\n",
    "grid_search.fit(X_train, y_train)\n",
    "\n",
    "#Get best n and corresponding model score\n",
    "best_n = grid_search.best_params_\n",
    "best_score = grid_search.best_score_\n",
    "\n",
    "print(\"Best model Score:\", -best_score)\n",
    "print(\"That model's value:\", best_n)"
   ]
  },
  {
   "cell_type": "code",
   "execution_count": 61,
   "id": "806c367a-aec3-4359-a3b4-3282dbd92855",
   "metadata": {
    "tags": []
   },
   "outputs": [
    {
     "name": "stdout",
     "output_type": "stream",
     "text": [
      "Best model Score: 0.14775689900529027\n",
      "That model's value: {}\n"
     ]
    }
   ],
   "source": [
    "import xgboost as xgb\n",
    "pipe = Pipeline([\n",
    "    (\"preprocessing\", ct),\n",
    "    (\"poly_terms\",poly),\n",
    "    (\"model\", xgb.XGBRegressor())\n",
    "])\n",
    "#Grid search grid\n",
    "grid = {'model__n_neighbors': list(range(2,10,2))}  # Values for n_neighbors to be tested\n",
    "grid={}\n",
    "#Grid search with cross validation\n",
    "grid_search = GridSearchCV(pipe, grid, cv=10, scoring='neg_root_mean_squared_error')\n",
    "grid_search.fit(X_train, y_train)\n",
    "\n",
    "#Get best n and corresponding model score\n",
    "best_n = grid_search.best_params_\n",
    "best_score = grid_search.best_score_\n",
    "\n",
    "print(\"Best model Score:\", -best_score)\n",
    "print(\"That model's value:\", best_n)"
   ]
  },
  {
   "cell_type": "markdown",
   "id": "21822bf8-35ca-4c9b-83c8-226ad875c82c",
   "metadata": {
    "tags": []
   },
   "source": [
    "# Train Drop Rows"
   ]
  },
  {
   "cell_type": "code",
   "execution_count": 88,
   "id": "16ba40d2-bf9f-459a-9895-6a722aad1bf9",
   "metadata": {
    "tags": []
   },
   "outputs": [],
   "source": [
    "X_train = train_row_drop.drop(['LogSalePrice','SalePrice','PID'],axis=1)\n",
    "y_train = train_row_drop['LogSalePrice']"
   ]
  },
  {
   "cell_type": "markdown",
   "id": "e7a49f15-0b58-4c16-9aed-fbdef513b650",
   "metadata": {},
   "source": [
    "## ElasticNet"
   ]
  },
  {
   "cell_type": "code",
   "execution_count": 69,
   "id": "b139d1d7-668e-4856-94ae-ec0878fa20d7",
   "metadata": {
    "tags": []
   },
   "outputs": [
    {
     "name": "stdout",
     "output_type": "stream",
     "text": [
      "Best model Score: 0.42432251874834603\n",
      "That model's value: {}\n"
     ]
    }
   ],
   "source": [
    "from sklearn.linear_model import ElasticNet\n",
    "pipe = Pipeline([\n",
    "    (\"preprocessing\", ct),\n",
    "    (\"model\", ElasticNet())\n",
    "])\n",
    "\n",
    "#Grid search grid\n",
    "grid = {'model__n_neighbors': list(range(2,10,2))}  # Values for n_neighbors to be tested\n",
    "grid={}\n",
    "#Grid search with cross validation\n",
    "grid_search = GridSearchCV(pipe, grid, cv=10, scoring='neg_root_mean_squared_error')\n",
    "grid_search.fit(X_train, y_train)\n",
    "\n",
    "#Get best n and corresponding model score\n",
    "best_n = grid_search.best_params_\n",
    "best_score = grid_search.best_score_\n",
    "\n",
    "print(\"Best model Score:\", -best_score)\n",
    "print(\"That model's value:\", best_n)"
   ]
  },
  {
   "cell_type": "markdown",
   "id": "35ea1350-54a2-445b-90f3-7612caaee3fb",
   "metadata": {},
   "source": [
    "## KNN"
   ]
  },
  {
   "cell_type": "code",
   "execution_count": 70,
   "id": "3c74d486-8a8c-4490-892a-94beb20f519f",
   "metadata": {
    "tags": []
   },
   "outputs": [
    {
     "name": "stdout",
     "output_type": "stream",
     "text": [
      "Best model Score: 0.18181273014006008\n",
      "That model's value: {}\n"
     ]
    }
   ],
   "source": [
    "from sklearn.linear_model import ElasticNet\n",
    "pipe = Pipeline([\n",
    "    (\"preprocessing\", ct),\n",
    "    (\"model\", KNeighborsRegressor())\n",
    "])\n",
    "\n",
    "#Grid search grid\n",
    "grid = {'model__n_neighbors': list(range(2,10,2))}  # Values for n_neighbors to be tested\n",
    "grid={}\n",
    "#Grid search with cross validation\n",
    "grid_search = GridSearchCV(pipe, grid, cv=10, scoring='neg_root_mean_squared_error')\n",
    "grid_search.fit(X_train, y_train)\n",
    "\n",
    "#Get best n and corresponding model score\n",
    "best_n = grid_search.best_params_\n",
    "best_score = grid_search.best_score_\n",
    "\n",
    "print(\"Best model Score:\", -best_score)\n",
    "print(\"That model's value:\", best_n)"
   ]
  },
  {
   "cell_type": "code",
   "execution_count": 71,
   "id": "637aaf2d-a5c1-43af-ab1b-02bd3aabd202",
   "metadata": {
    "tags": []
   },
   "outputs": [
    {
     "name": "stdout",
     "output_type": "stream",
     "text": [
      "Best model Score: 0.19055894844152962\n",
      "That model's value: {}\n"
     ]
    }
   ],
   "source": [
    "from sklearn.linear_model import ElasticNet\n",
    "pipe = Pipeline([\n",
    "    (\"preprocessing\", ct),\n",
    "    (\"poly_terms\",poly),\n",
    "    (\"model\", KNeighborsRegressor())\n",
    "])\n",
    "\n",
    "#Grid search grid\n",
    "grid = {'model__n_neighbors': list(range(2,10,2))}  # Values for n_neighbors to be tested\n",
    "grid={}\n",
    "#Grid search with cross validation\n",
    "grid_search = GridSearchCV(pipe, grid, cv=10, scoring='neg_root_mean_squared_error')\n",
    "grid_search.fit(X_train, y_train)\n",
    "\n",
    "#Get best n and corresponding model score\n",
    "best_n = grid_search.best_params_\n",
    "best_score = grid_search.best_score_\n",
    "\n",
    "print(\"Best model Score:\", -best_score)\n",
    "print(\"That model's value:\", best_n)"
   ]
  },
  {
   "cell_type": "markdown",
   "id": "0ee6eba9-8f80-4f98-a02e-1c4e0afac63e",
   "metadata": {},
   "source": [
    "## Decision Tree"
   ]
  },
  {
   "cell_type": "code",
   "execution_count": 72,
   "id": "808b1646-c279-4ab1-a5d2-5885ef0d3d1e",
   "metadata": {
    "tags": []
   },
   "outputs": [
    {
     "name": "stdout",
     "output_type": "stream",
     "text": [
      "Best model Score: 0.20484365418459846\n",
      "That model's value: {}\n"
     ]
    }
   ],
   "source": [
    "from sklearn.linear_model import ElasticNet\n",
    "pipe = Pipeline([\n",
    "    (\"preprocessing\", ct),\n",
    "    (\"model\", DecisionTreeRegressor())\n",
    "])\n",
    "\n",
    "#Grid search grid\n",
    "grid = {'model__n_neighbors': list(range(2,10,2))}  # Values for n_neighbors to be tested\n",
    "grid={}\n",
    "#Grid search with cross validation\n",
    "grid_search = GridSearchCV(pipe, grid, cv=10, scoring='neg_root_mean_squared_error')\n",
    "grid_search.fit(X_train, y_train)\n",
    "\n",
    "#Get best n and corresponding model score\n",
    "best_n = grid_search.best_params_\n",
    "best_score = grid_search.best_score_\n",
    "\n",
    "print(\"Best model Score:\", -best_score)\n",
    "print(\"That model's value:\", best_n)"
   ]
  },
  {
   "cell_type": "code",
   "execution_count": 73,
   "id": "d617cfb5-da08-4b75-99f8-8b5167c690aa",
   "metadata": {
    "tags": []
   },
   "outputs": [
    {
     "name": "stdout",
     "output_type": "stream",
     "text": [
      "Best model Score: 0.20781592607631105\n",
      "That model's value: {}\n"
     ]
    }
   ],
   "source": [
    "from sklearn.linear_model import ElasticNet\n",
    "pipe = Pipeline([\n",
    "    (\"preprocessing\", ct),\n",
    "    (\"poly_terms\",poly),\n",
    "    (\"model\", DecisionTreeRegressor())\n",
    "])\n",
    "\n",
    "#Grid search grid\n",
    "grid = {'model__n_neighbors': list(range(2,10,2))}  # Values for n_neighbors to be tested\n",
    "grid={}\n",
    "#Grid search with cross validation\n",
    "grid_search = GridSearchCV(pipe, grid, cv=10, scoring='neg_root_mean_squared_error')\n",
    "grid_search.fit(X_train, y_train)\n",
    "\n",
    "#Get best n and corresponding model score\n",
    "best_n = grid_search.best_params_\n",
    "best_score = grid_search.best_score_\n",
    "\n",
    "print(\"Best model Score:\", -best_score)\n",
    "print(\"That model's value:\", best_n)"
   ]
  },
  {
   "cell_type": "markdown",
   "id": "e8d7073f-b2e9-4cf8-90b0-cd77d1d827b9",
   "metadata": {},
   "source": [
    "## GBR"
   ]
  },
  {
   "cell_type": "code",
   "execution_count": 74,
   "id": "502744e1-8261-4ed2-b18d-8ddef879e22c",
   "metadata": {
    "tags": []
   },
   "outputs": [
    {
     "name": "stdout",
     "output_type": "stream",
     "text": [
      "Best model Score: 0.1465306715059475\n",
      "That model's value: {}\n"
     ]
    }
   ],
   "source": [
    "from sklearn.ensemble import GradientBoostingRegressor\n",
    "pipe = Pipeline([\n",
    "    (\"preprocessing\", ct),\n",
    "    (\"model\", GradientBoostingRegressor())\n",
    "])\n",
    "\n",
    "#Grid search grid\n",
    "grid = {'model__n_neighbors': list(range(2,10,2))}  # Values for n_neighbors to be tested\n",
    "grid={}\n",
    "#Grid search with cross validation\n",
    "grid_search = GridSearchCV(pipe, grid, cv=10, scoring='neg_root_mean_squared_error')\n",
    "grid_search.fit(X_train, y_train)\n",
    "\n",
    "#Get best n and corresponding model score\n",
    "best_n = grid_search.best_params_\n",
    "best_score = grid_search.best_score_\n",
    "\n",
    "print(\"Best model Score:\", -best_score)\n",
    "print(\"That model's value:\", best_n)"
   ]
  },
  {
   "cell_type": "code",
   "execution_count": 75,
   "id": "49563499-dd0b-4b7a-88bf-06d18f939627",
   "metadata": {
    "tags": []
   },
   "outputs": [
    {
     "name": "stdout",
     "output_type": "stream",
     "text": [
      "Best model Score: 0.15112792693950824\n",
      "That model's value: {}\n"
     ]
    }
   ],
   "source": [
    "from sklearn.ensemble import GradientBoostingRegressor\n",
    "pipe = Pipeline([\n",
    "    (\"preprocessing\", ct),\n",
    "    (\"poly_terms\",poly),\n",
    "    (\"model\", GradientBoostingRegressor())\n",
    "])\n",
    "\n",
    "#Grid search grid\n",
    "grid = {'model__n_neighbors': list(range(2,10,2))}  # Values for n_neighbors to be tested\n",
    "grid={}\n",
    "#Grid search with cross validation\n",
    "grid_search = GridSearchCV(pipe, grid, cv=10, scoring='neg_root_mean_squared_error')\n",
    "grid_search.fit(X_train, y_train)\n",
    "\n",
    "#Get best n and corresponding model score\n",
    "best_n = grid_search.best_params_\n",
    "best_score = grid_search.best_score_\n",
    "\n",
    "print(\"Best model Score:\", -best_score)\n",
    "print(\"That model's value:\", best_n)"
   ]
  },
  {
   "cell_type": "markdown",
   "id": "b9a82c13-f9b5-4052-9234-c35705d537ad",
   "metadata": {},
   "source": [
    "## XGBoost"
   ]
  },
  {
   "cell_type": "code",
   "execution_count": 94,
   "id": "308a3579-9c6c-466e-8140-ba219223d61f",
   "metadata": {
    "tags": []
   },
   "outputs": [
    {
     "name": "stdout",
     "output_type": "stream",
     "text": [
      "Best model Score: 0.13728007194146433\n",
      "That model's value: {'model__alpha': 0, 'model__booster': 'gbtree', 'model__colsample_bytree': 0.8, 'model__lambda': 1, 'model__learning_rate': 0.1, 'model__max_depth': 7, 'model__subsample': 0.5}\n"
     ]
    }
   ],
   "source": [
    "import xgboost as xgb\n",
    "pipe = Pipeline([\n",
    "    (\"preprocessing\", ct),\n",
    "    (\"model\", xgb.XGBRegressor())\n",
    "])\n",
    "#Grid search grid\n",
    "grid = {\n",
    "    'model__booster':['gbtree'],\n",
    "    'model__learning_rate': [0.1, 0.2,.5],\n",
    "    'model__max_depth': [3, 5, 7],\n",
    "    'model__subsample': [.5,.8],\n",
    "    'model__colsample_bytree': [0.8, 1.0],\n",
    "    'model__lambda': [1,2,.5],\n",
    "    'model__alpha': [0,.2,.4],\n",
    "}\n",
    "\n",
    "#Grid search with cross validation\n",
    "grid_search = GridSearchCV(pipe, grid, cv=10, scoring='neg_root_mean_squared_error')\n",
    "grid_search.fit(X_train, y_train)\n",
    "\n",
    "#Get best n and corresponding model score\n",
    "best_n = grid_search.best_params_\n",
    "best_score = grid_search.best_score_\n",
    "\n",
    "print(\"Best model Score:\", -best_score)\n",
    "print(\"That model's value:\", best_n)"
   ]
  },
  {
   "cell_type": "code",
   "execution_count": 93,
   "id": "090b4009-a805-42ff-8c83-86d52b29d30f",
   "metadata": {
    "tags": []
   },
   "outputs": [
    {
     "name": "stdout",
     "output_type": "stream",
     "text": [
      "Best model Score: 0.14957963675436886\n",
      "That model's value: {'model__alpha': 0, 'model__booster': 'gblinear', 'model__feature_selector': 'greedy', 'model__lambda': 0, 'model__updater': 'coord_descent'}\n"
     ]
    }
   ],
   "source": [
    "import xgboost as xgb\n",
    "pipe = Pipeline([\n",
    "    (\"preprocessing\", ct),\n",
    "    (\"model\", xgb.XGBRegressor())\n",
    "])\n",
    "#Grid search grid\n",
    "grid = {\n",
    "    'model__booster':['gblinear'],\n",
    "    'model__lambda':[0,.1,.5,1,10],\n",
    "    'model__alpha':[0,.25,.5,.75,1],\n",
    "    'model__updater':['coord_descent'],\n",
    "    'model__feature_selector':['cyclic','greedy'],\n",
    "}\n",
    "\n",
    "\n",
    "#Grid search with cross validation\n",
    "grid_search = GridSearchCV(pipe, grid, cv=10, scoring='neg_root_mean_squared_error')\n",
    "grid_search.fit(X_train, y_train)\n",
    "\n",
    "#Get best n and corresponding model score\n",
    "best_n = grid_search.best_params_\n",
    "best_score = grid_search.best_score_\n",
    "\n",
    "print(\"Best model Score:\", -best_score)\n",
    "print(\"That model's value:\", best_n)"
   ]
  },
  {
   "cell_type": "code",
   "execution_count": 77,
   "id": "ca1b725d-895b-4fdc-b197-f8d66ffdef92",
   "metadata": {
    "tags": []
   },
   "outputs": [
    {
     "name": "stdout",
     "output_type": "stream",
     "text": [
      "Best model Score: 0.15633795174716653\n",
      "That model's value: {}\n"
     ]
    }
   ],
   "source": [
    "import xgboost as xgb\n",
    "pipe = Pipeline([\n",
    "    (\"preprocessing\", ct),\n",
    "    (\"poly_terms\",poly),\n",
    "    (\"model\", xgb.XGBRegressor())\n",
    "])\n",
    "#Grid search grid\n",
    "grid = {'model__n_neighbors': list(range(2,10,2))}  # Values for n_neighbors to be tested\n",
    "grid={}\n",
    "#Grid search with cross validation\n",
    "grid_search = GridSearchCV(pipe, grid, cv=10, scoring='neg_root_mean_squared_error')\n",
    "grid_search.fit(X_train, y_train)\n",
    "\n",
    "#Get best n and corresponding model score\n",
    "best_n = grid_search.best_params_\n",
    "best_score = grid_search.best_score_\n",
    "\n",
    "print(\"Best model Score:\", -best_score)\n",
    "print(\"That model's value:\", best_n)"
   ]
  },
  {
   "cell_type": "markdown",
   "id": "b4cc67d1-a915-43f5-90e8-bb98c370f74c",
   "metadata": {
    "jp-MarkdownHeadingCollapsed": true,
    "tags": []
   },
   "source": [
    "# Train Drop Feature"
   ]
  },
  {
   "cell_type": "code",
   "execution_count": 78,
   "id": "d0445409-cf85-47eb-b991-f6605f76c423",
   "metadata": {
    "tags": []
   },
   "outputs": [],
   "source": [
    "X_train = train_lotless.drop(['LogSalePrice','SalePrice','PID'],axis=1)\n",
    "y_train = train_lotless['LogSalePrice']"
   ]
  },
  {
   "cell_type": "markdown",
   "id": "dac64f92-d8d9-48ae-8510-5dde6381905f",
   "metadata": {},
   "source": [
    "## ElasticNet"
   ]
  },
  {
   "cell_type": "code",
   "execution_count": 79,
   "id": "9f87b804-a7ef-4f01-9d57-b722104b408e",
   "metadata": {
    "tags": []
   },
   "outputs": [
    {
     "name": "stdout",
     "output_type": "stream",
     "text": [
      "Best model Score: 0.40994972747200026\n",
      "That model's value: {}\n"
     ]
    }
   ],
   "source": [
    "from sklearn.linear_model import ElasticNet\n",
    "pipe = Pipeline([\n",
    "    (\"preprocessing\", ct),\n",
    "    (\"model\", ElasticNet())\n",
    "])\n",
    "\n",
    "#Grid search grid\n",
    "grid = {'model__n_neighbors': list(range(2,10,2))}  # Values for n_neighbors to be tested\n",
    "grid={}\n",
    "#Grid search with cross validation\n",
    "grid_search = GridSearchCV(pipe, grid, cv=10, scoring='neg_root_mean_squared_error')\n",
    "grid_search.fit(X_train, y_train)\n",
    "\n",
    "#Get best n and corresponding model score\n",
    "best_n = grid_search.best_params_\n",
    "best_score = grid_search.best_score_\n",
    "\n",
    "print(\"Best model Score:\", -best_score)\n",
    "print(\"That model's value:\", best_n)"
   ]
  },
  {
   "cell_type": "markdown",
   "id": "469ae484-b960-41ec-9f39-75bede053010",
   "metadata": {},
   "source": [
    "## KNN"
   ]
  },
  {
   "cell_type": "code",
   "execution_count": 80,
   "id": "ef8227f5-659b-4737-aa14-baf7d236f6ed",
   "metadata": {
    "tags": []
   },
   "outputs": [
    {
     "name": "stdout",
     "output_type": "stream",
     "text": [
      "Best model Score: 0.1797635443625188\n",
      "That model's value: {}\n"
     ]
    }
   ],
   "source": [
    "from sklearn.linear_model import ElasticNet\n",
    "pipe = Pipeline([\n",
    "    (\"preprocessing\", ct),\n",
    "    (\"model\", KNeighborsRegressor())\n",
    "])\n",
    "\n",
    "#Grid search grid\n",
    "grid = {'model__n_neighbors': list(range(2,10,2))}  # Values for n_neighbors to be tested\n",
    "grid={}\n",
    "#Grid search with cross validation\n",
    "grid_search = GridSearchCV(pipe, grid, cv=10, scoring='neg_root_mean_squared_error')\n",
    "grid_search.fit(X_train, y_train)\n",
    "\n",
    "#Get best n and corresponding model score\n",
    "best_n = grid_search.best_params_\n",
    "best_score = grid_search.best_score_\n",
    "\n",
    "print(\"Best model Score:\", -best_score)\n",
    "print(\"That model's value:\", best_n)"
   ]
  },
  {
   "cell_type": "code",
   "execution_count": 81,
   "id": "c0417350-4b7e-4d01-a78d-ee31c7c72085",
   "metadata": {
    "tags": []
   },
   "outputs": [
    {
     "name": "stdout",
     "output_type": "stream",
     "text": [
      "Best model Score: 0.18729686995816905\n",
      "That model's value: {}\n"
     ]
    }
   ],
   "source": [
    "from sklearn.linear_model import ElasticNet\n",
    "pipe = Pipeline([\n",
    "    (\"preprocessing\", ct),\n",
    "    (\"poly_terms\",poly),\n",
    "    (\"model\", KNeighborsRegressor())\n",
    "])\n",
    "\n",
    "#Grid search grid\n",
    "grid = {'model__n_neighbors': list(range(2,10,2))}  # Values for n_neighbors to be tested\n",
    "grid={}\n",
    "#Grid search with cross validation\n",
    "grid_search = GridSearchCV(pipe, grid, cv=10, scoring='neg_root_mean_squared_error')\n",
    "grid_search.fit(X_train, y_train)\n",
    "\n",
    "#Get best n and corresponding model score\n",
    "best_n = grid_search.best_params_\n",
    "best_score = grid_search.best_score_\n",
    "\n",
    "print(\"Best model Score:\", -best_score)\n",
    "print(\"That model's value:\", best_n)"
   ]
  },
  {
   "cell_type": "markdown",
   "id": "cb6c2dab-14b2-4a5f-b7ea-4af055f98753",
   "metadata": {},
   "source": [
    "## Decision Tree"
   ]
  },
  {
   "cell_type": "code",
   "execution_count": 82,
   "id": "c3ecb109-cefc-4838-b419-97cbed18c001",
   "metadata": {
    "tags": []
   },
   "outputs": [
    {
     "name": "stdout",
     "output_type": "stream",
     "text": [
      "Best model Score: 0.20563051059627746\n",
      "That model's value: {}\n"
     ]
    }
   ],
   "source": [
    "from sklearn.linear_model import ElasticNet\n",
    "pipe = Pipeline([\n",
    "    (\"preprocessing\", ct),\n",
    "    (\"model\", DecisionTreeRegressor())\n",
    "])\n",
    "\n",
    "#Grid search grid\n",
    "grid = {'model__n_neighbors': list(range(2,10,2))}  # Values for n_neighbors to be tested\n",
    "grid={}\n",
    "#Grid search with cross validation\n",
    "grid_search = GridSearchCV(pipe, grid, cv=10, scoring='neg_root_mean_squared_error')\n",
    "grid_search.fit(X_train, y_train)\n",
    "\n",
    "#Get best n and corresponding model score\n",
    "best_n = grid_search.best_params_\n",
    "best_score = grid_search.best_score_\n",
    "\n",
    "print(\"Best model Score:\", -best_score)\n",
    "print(\"That model's value:\", best_n)"
   ]
  },
  {
   "cell_type": "code",
   "execution_count": 83,
   "id": "4b57b418-84bb-46fc-96b9-e0130c62c4e2",
   "metadata": {
    "tags": []
   },
   "outputs": [
    {
     "name": "stdout",
     "output_type": "stream",
     "text": [
      "Best model Score: 0.20369686568532613\n",
      "That model's value: {}\n"
     ]
    }
   ],
   "source": [
    "from sklearn.linear_model import ElasticNet\n",
    "pipe = Pipeline([\n",
    "    (\"preprocessing\", ct),\n",
    "    (\"poly_terms\",poly),\n",
    "    (\"model\", DecisionTreeRegressor())\n",
    "])\n",
    "\n",
    "#Grid search grid\n",
    "grid = {'model__n_neighbors': list(range(2,10,2))}  # Values for n_neighbors to be tested\n",
    "grid={}\n",
    "#Grid search with cross validation\n",
    "grid_search = GridSearchCV(pipe, grid, cv=10, scoring='neg_root_mean_squared_error')\n",
    "grid_search.fit(X_train, y_train)\n",
    "\n",
    "#Get best n and corresponding model score\n",
    "best_n = grid_search.best_params_\n",
    "best_score = grid_search.best_score_\n",
    "\n",
    "print(\"Best model Score:\", -best_score)\n",
    "print(\"That model's value:\", best_n)"
   ]
  },
  {
   "cell_type": "markdown",
   "id": "e3d613e9-8e6e-481e-be38-b62cbf09a02e",
   "metadata": {},
   "source": [
    "## GBR"
   ]
  },
  {
   "cell_type": "code",
   "execution_count": 84,
   "id": "4c9c6a3d-accb-4cd5-b091-25ec2fb21988",
   "metadata": {
    "tags": []
   },
   "outputs": [
    {
     "name": "stdout",
     "output_type": "stream",
     "text": [
      "Best model Score: 0.14471148358107616\n",
      "That model's value: {}\n"
     ]
    }
   ],
   "source": [
    "from sklearn.ensemble import GradientBoostingRegressor\n",
    "pipe = Pipeline([\n",
    "    (\"preprocessing\", ct),\n",
    "    (\"model\", GradientBoostingRegressor())\n",
    "])\n",
    "\n",
    "#Grid search grid\n",
    "grid = {'model__n_neighbors': list(range(2,10,2))}  # Values for n_neighbors to be tested\n",
    "grid={}\n",
    "#Grid search with cross validation\n",
    "grid_search = GridSearchCV(pipe, grid, cv=10, scoring='neg_root_mean_squared_error')\n",
    "grid_search.fit(X_train, y_train)\n",
    "\n",
    "#Get best n and corresponding model score\n",
    "best_n = grid_search.best_params_\n",
    "best_score = grid_search.best_score_\n",
    "\n",
    "print(\"Best model Score:\", -best_score)\n",
    "print(\"That model's value:\", best_n)"
   ]
  },
  {
   "cell_type": "code",
   "execution_count": 85,
   "id": "9fe758a5-be0b-46f7-869a-f18416078f8a",
   "metadata": {
    "tags": []
   },
   "outputs": [
    {
     "name": "stdout",
     "output_type": "stream",
     "text": [
      "Best model Score: 0.14531172285421662\n",
      "That model's value: {}\n"
     ]
    }
   ],
   "source": [
    "from sklearn.ensemble import GradientBoostingRegressor\n",
    "pipe = Pipeline([\n",
    "    (\"preprocessing\", ct),\n",
    "    (\"poly_terms\",poly),\n",
    "    (\"model\", GradientBoostingRegressor())\n",
    "])\n",
    "\n",
    "#Grid search grid\n",
    "grid = {'model__n_neighbors': list(range(2,10,2))}  # Values for n_neighbors to be tested\n",
    "grid={}\n",
    "#Grid search with cross validation\n",
    "grid_search = GridSearchCV(pipe, grid, cv=10, scoring='neg_root_mean_squared_error')\n",
    "grid_search.fit(X_train, y_train)\n",
    "\n",
    "#Get best n and corresponding model score\n",
    "best_n = grid_search.best_params_\n",
    "best_score = grid_search.best_score_\n",
    "\n",
    "print(\"Best model Score:\", -best_score)\n",
    "print(\"That model's value:\", best_n)"
   ]
  },
  {
   "cell_type": "markdown",
   "id": "d5376c64-dc86-4a18-ba6f-7fb2241b99c9",
   "metadata": {},
   "source": [
    "## XGBoost"
   ]
  },
  {
   "cell_type": "code",
   "execution_count": 86,
   "id": "5555533b-8599-48e3-9792-05a27fdf422d",
   "metadata": {
    "tags": []
   },
   "outputs": [
    {
     "name": "stdout",
     "output_type": "stream",
     "text": [
      "Best model Score: 0.14023294449659127\n",
      "That model's value: {}\n"
     ]
    }
   ],
   "source": [
    "import xgboost as xgb\n",
    "pipe = Pipeline([\n",
    "    (\"preprocessing\", ct),\n",
    "    (\"model\", xgb.XGBRegressor())\n",
    "])\n",
    "#Grid search grid\n",
    "grid = {'model__n_neighbors': list(range(2,10,2))}  # Values for n_neighbors to be tested\n",
    "grid={}\n",
    "#Grid search with cross validation\n",
    "grid_search = GridSearchCV(pipe, grid, cv=10, scoring='neg_root_mean_squared_error')\n",
    "grid_search.fit(X_train, y_train)\n",
    "\n",
    "#Get best n and corresponding model score\n",
    "best_n = grid_search.best_params_\n",
    "best_score = grid_search.best_score_\n",
    "\n",
    "print(\"Best model Score:\", -best_score)\n",
    "print(\"That model's value:\", best_n)"
   ]
  },
  {
   "cell_type": "code",
   "execution_count": 87,
   "id": "eeedc0c9-817b-463a-a21c-f774c4d4851c",
   "metadata": {
    "tags": []
   },
   "outputs": [
    {
     "name": "stdout",
     "output_type": "stream",
     "text": [
      "Best model Score: 0.14732179787658045\n",
      "That model's value: {}\n"
     ]
    }
   ],
   "source": [
    "import xgboost as xgb\n",
    "pipe = Pipeline([\n",
    "    (\"preprocessing\", ct),\n",
    "    (\"poly_terms\",poly),\n",
    "    (\"model\", xgb.XGBRegressor())\n",
    "])\n",
    "#Grid search grid\n",
    "grid = {'model__n_neighbors': list(range(2,10,2))}  # Values for n_neighbors to be tested\n",
    "grid={}\n",
    "#Grid search with cross validation\n",
    "grid_search = GridSearchCV(pipe, grid, cv=10, scoring='neg_root_mean_squared_error')\n",
    "grid_search.fit(X_train, y_train)\n",
    "\n",
    "#Get best n and corresponding model score\n",
    "best_n = grid_search.best_params_\n",
    "best_score = grid_search.best_score_\n",
    "\n",
    "print(\"Best model Score:\", -best_score)\n",
    "print(\"That model's value:\", best_n)"
   ]
  },
  {
   "cell_type": "markdown",
   "id": "062e0b44-3a64-4d8d-a809-abddcf319c3d",
   "metadata": {},
   "source": [
    "# Predictions"
   ]
  },
  {
   "cell_type": "code",
   "execution_count": 67,
   "id": "f3e77dd7-0191-4038-a31c-842693ce41df",
   "metadata": {
    "tags": []
   },
   "outputs": [
    {
     "data": {
      "text/html": [
       "<div>\n",
       "<style scoped>\n",
       "    .dataframe tbody tr th:only-of-type {\n",
       "        vertical-align: middle;\n",
       "    }\n",
       "\n",
       "    .dataframe tbody tr th {\n",
       "        vertical-align: top;\n",
       "    }\n",
       "\n",
       "    .dataframe thead th {\n",
       "        text-align: right;\n",
       "    }\n",
       "</style>\n",
       "<table border=\"1\" class=\"dataframe\">\n",
       "  <thead>\n",
       "    <tr style=\"text-align: right;\">\n",
       "      <th></th>\n",
       "      <th>PID</th>\n",
       "      <th>Lot Frontage</th>\n",
       "      <th>Lot Area</th>\n",
       "      <th>Street</th>\n",
       "      <th>Neighborhood</th>\n",
       "      <th>Bldg Type</th>\n",
       "      <th>House Style</th>\n",
       "      <th>Overall Qual</th>\n",
       "      <th>Overall Cond</th>\n",
       "      <th>Year Built</th>\n",
       "      <th>...</th>\n",
       "      <th>Full Bath</th>\n",
       "      <th>Half Bath</th>\n",
       "      <th>Bedroom AbvGr</th>\n",
       "      <th>TotRms AbvGrd</th>\n",
       "      <th>Gr Liv Area</th>\n",
       "      <th>Functional</th>\n",
       "      <th>Screen Porch</th>\n",
       "      <th>Pool Area</th>\n",
       "      <th>Yr Sold</th>\n",
       "      <th>Sale Type</th>\n",
       "    </tr>\n",
       "  </thead>\n",
       "  <tbody>\n",
       "    <tr>\n",
       "      <th>0</th>\n",
       "      <td>907135180</td>\n",
       "      <td>60</td>\n",
       "      <td>8070</td>\n",
       "      <td>Pave</td>\n",
       "      <td>CollgCr</td>\n",
       "      <td>1Fam</td>\n",
       "      <td>1Story</td>\n",
       "      <td>4</td>\n",
       "      <td>5</td>\n",
       "      <td>1994</td>\n",
       "      <td>...</td>\n",
       "      <td>1</td>\n",
       "      <td>0</td>\n",
       "      <td>3</td>\n",
       "      <td>5</td>\n",
       "      <td>990</td>\n",
       "      <td>Typ</td>\n",
       "      <td>0</td>\n",
       "      <td>0</td>\n",
       "      <td>2007</td>\n",
       "      <td>WD</td>\n",
       "    </tr>\n",
       "    <tr>\n",
       "      <th>1</th>\n",
       "      <td>528181040</td>\n",
       "      <td>40</td>\n",
       "      <td>6792</td>\n",
       "      <td>Pave</td>\n",
       "      <td>NridgHt</td>\n",
       "      <td>TwnhsE</td>\n",
       "      <td>1Story</td>\n",
       "      <td>7</td>\n",
       "      <td>5</td>\n",
       "      <td>2005</td>\n",
       "      <td>...</td>\n",
       "      <td>2</td>\n",
       "      <td>0</td>\n",
       "      <td>2</td>\n",
       "      <td>6</td>\n",
       "      <td>1368</td>\n",
       "      <td>Typ</td>\n",
       "      <td>0</td>\n",
       "      <td>0</td>\n",
       "      <td>2006</td>\n",
       "      <td>New</td>\n",
       "    </tr>\n",
       "    <tr>\n",
       "      <th>2</th>\n",
       "      <td>528175010</td>\n",
       "      <td>44</td>\n",
       "      <td>6371</td>\n",
       "      <td>Pave</td>\n",
       "      <td>NridgHt</td>\n",
       "      <td>TwnhsE</td>\n",
       "      <td>1Story</td>\n",
       "      <td>7</td>\n",
       "      <td>5</td>\n",
       "      <td>2009</td>\n",
       "      <td>...</td>\n",
       "      <td>2</td>\n",
       "      <td>0</td>\n",
       "      <td>2</td>\n",
       "      <td>6</td>\n",
       "      <td>1358</td>\n",
       "      <td>Typ</td>\n",
       "      <td>0</td>\n",
       "      <td>0</td>\n",
       "      <td>2010</td>\n",
       "      <td>New</td>\n",
       "    </tr>\n",
       "    <tr>\n",
       "      <th>3</th>\n",
       "      <td>531379030</td>\n",
       "      <td>70</td>\n",
       "      <td>8304</td>\n",
       "      <td>Pave</td>\n",
       "      <td>SawyerW</td>\n",
       "      <td>1Fam</td>\n",
       "      <td>2Story</td>\n",
       "      <td>6</td>\n",
       "      <td>5</td>\n",
       "      <td>1997</td>\n",
       "      <td>...</td>\n",
       "      <td>2</td>\n",
       "      <td>1</td>\n",
       "      <td>3</td>\n",
       "      <td>7</td>\n",
       "      <td>1837</td>\n",
       "      <td>Typ</td>\n",
       "      <td>0</td>\n",
       "      <td>0</td>\n",
       "      <td>2006</td>\n",
       "      <td>WD</td>\n",
       "    </tr>\n",
       "    <tr>\n",
       "      <th>4</th>\n",
       "      <td>923275090</td>\n",
       "      <td>37</td>\n",
       "      <td>6951</td>\n",
       "      <td>Pave</td>\n",
       "      <td>Mitchel</td>\n",
       "      <td>1Fam</td>\n",
       "      <td>1Story</td>\n",
       "      <td>5</td>\n",
       "      <td>5</td>\n",
       "      <td>1984</td>\n",
       "      <td>...</td>\n",
       "      <td>1</td>\n",
       "      <td>0</td>\n",
       "      <td>3</td>\n",
       "      <td>5</td>\n",
       "      <td>923</td>\n",
       "      <td>Typ</td>\n",
       "      <td>0</td>\n",
       "      <td>0</td>\n",
       "      <td>2008</td>\n",
       "      <td>WD</td>\n",
       "    </tr>\n",
       "    <tr>\n",
       "      <th>...</th>\n",
       "      <td>...</td>\n",
       "      <td>...</td>\n",
       "      <td>...</td>\n",
       "      <td>...</td>\n",
       "      <td>...</td>\n",
       "      <td>...</td>\n",
       "      <td>...</td>\n",
       "      <td>...</td>\n",
       "      <td>...</td>\n",
       "      <td>...</td>\n",
       "      <td>...</td>\n",
       "      <td>...</td>\n",
       "      <td>...</td>\n",
       "      <td>...</td>\n",
       "      <td>...</td>\n",
       "      <td>...</td>\n",
       "      <td>...</td>\n",
       "      <td>...</td>\n",
       "      <td>...</td>\n",
       "      <td>...</td>\n",
       "      <td>...</td>\n",
       "    </tr>\n",
       "    <tr>\n",
       "      <th>600</th>\n",
       "      <td>528174060</td>\n",
       "      <td>34</td>\n",
       "      <td>5381</td>\n",
       "      <td>Pave</td>\n",
       "      <td>NridgHt</td>\n",
       "      <td>Twnhs</td>\n",
       "      <td>1Story</td>\n",
       "      <td>6</td>\n",
       "      <td>5</td>\n",
       "      <td>2005</td>\n",
       "      <td>...</td>\n",
       "      <td>2</td>\n",
       "      <td>0</td>\n",
       "      <td>1</td>\n",
       "      <td>5</td>\n",
       "      <td>1306</td>\n",
       "      <td>Typ</td>\n",
       "      <td>0</td>\n",
       "      <td>0</td>\n",
       "      <td>2009</td>\n",
       "      <td>WD</td>\n",
       "    </tr>\n",
       "    <tr>\n",
       "      <th>601</th>\n",
       "      <td>903400180</td>\n",
       "      <td>64</td>\n",
       "      <td>13053</td>\n",
       "      <td>Pave</td>\n",
       "      <td>BrkSide</td>\n",
       "      <td>1Fam</td>\n",
       "      <td>1.5Fin</td>\n",
       "      <td>6</td>\n",
       "      <td>7</td>\n",
       "      <td>1923</td>\n",
       "      <td>...</td>\n",
       "      <td>1</td>\n",
       "      <td>1</td>\n",
       "      <td>4</td>\n",
       "      <td>8</td>\n",
       "      <td>1848</td>\n",
       "      <td>Typ</td>\n",
       "      <td>220</td>\n",
       "      <td>0</td>\n",
       "      <td>2008</td>\n",
       "      <td>WD</td>\n",
       "    </tr>\n",
       "    <tr>\n",
       "      <th>602</th>\n",
       "      <td>903227150</td>\n",
       "      <td>53</td>\n",
       "      <td>6360</td>\n",
       "      <td>Pave</td>\n",
       "      <td>BrkSide</td>\n",
       "      <td>1Fam</td>\n",
       "      <td>1.5Fin</td>\n",
       "      <td>5</td>\n",
       "      <td>6</td>\n",
       "      <td>1942</td>\n",
       "      <td>...</td>\n",
       "      <td>1</td>\n",
       "      <td>1</td>\n",
       "      <td>3</td>\n",
       "      <td>7</td>\n",
       "      <td>1453</td>\n",
       "      <td>Min2</td>\n",
       "      <td>148</td>\n",
       "      <td>0</td>\n",
       "      <td>2010</td>\n",
       "      <td>WD</td>\n",
       "    </tr>\n",
       "    <tr>\n",
       "      <th>603</th>\n",
       "      <td>909250070</td>\n",
       "      <td>43</td>\n",
       "      <td>7000</td>\n",
       "      <td>Pave</td>\n",
       "      <td>SWISU</td>\n",
       "      <td>1Fam</td>\n",
       "      <td>2Story</td>\n",
       "      <td>7</td>\n",
       "      <td>8</td>\n",
       "      <td>1926</td>\n",
       "      <td>...</td>\n",
       "      <td>1</td>\n",
       "      <td>0</td>\n",
       "      <td>3</td>\n",
       "      <td>6</td>\n",
       "      <td>1479</td>\n",
       "      <td>Typ</td>\n",
       "      <td>0</td>\n",
       "      <td>0</td>\n",
       "      <td>2006</td>\n",
       "      <td>WD</td>\n",
       "    </tr>\n",
       "    <tr>\n",
       "      <th>604</th>\n",
       "      <td>909425180</td>\n",
       "      <td>80</td>\n",
       "      <td>12984</td>\n",
       "      <td>Pave</td>\n",
       "      <td>Crawfor</td>\n",
       "      <td>1Fam</td>\n",
       "      <td>1Story</td>\n",
       "      <td>5</td>\n",
       "      <td>6</td>\n",
       "      <td>1977</td>\n",
       "      <td>...</td>\n",
       "      <td>2</td>\n",
       "      <td>0</td>\n",
       "      <td>3</td>\n",
       "      <td>7</td>\n",
       "      <td>1647</td>\n",
       "      <td>Typ</td>\n",
       "      <td>0</td>\n",
       "      <td>0</td>\n",
       "      <td>2006</td>\n",
       "      <td>WD</td>\n",
       "    </tr>\n",
       "  </tbody>\n",
       "</table>\n",
       "<p>605 rows × 24 columns</p>\n",
       "</div>"
      ],
      "text/plain": [
       "           PID  Lot Frontage  Lot Area Street Neighborhood Bldg Type  \\\n",
       "0    907135180            60      8070   Pave      CollgCr      1Fam   \n",
       "1    528181040            40      6792   Pave      NridgHt    TwnhsE   \n",
       "2    528175010            44      6371   Pave      NridgHt    TwnhsE   \n",
       "3    531379030            70      8304   Pave      SawyerW      1Fam   \n",
       "4    923275090            37      6951   Pave      Mitchel      1Fam   \n",
       "..         ...           ...       ...    ...          ...       ...   \n",
       "600  528174060            34      5381   Pave      NridgHt     Twnhs   \n",
       "601  903400180            64     13053   Pave      BrkSide      1Fam   \n",
       "602  903227150            53      6360   Pave      BrkSide      1Fam   \n",
       "603  909250070            43      7000   Pave        SWISU      1Fam   \n",
       "604  909425180            80     12984   Pave      Crawfor      1Fam   \n",
       "\n",
       "    House Style  Overall Qual  Overall Cond  Year Built  ... Full Bath  \\\n",
       "0        1Story             4             5        1994  ...         1   \n",
       "1        1Story             7             5        2005  ...         2   \n",
       "2        1Story             7             5        2009  ...         2   \n",
       "3        2Story             6             5        1997  ...         2   \n",
       "4        1Story             5             5        1984  ...         1   \n",
       "..          ...           ...           ...         ...  ...       ...   \n",
       "600      1Story             6             5        2005  ...         2   \n",
       "601      1.5Fin             6             7        1923  ...         1   \n",
       "602      1.5Fin             5             6        1942  ...         1   \n",
       "603      2Story             7             8        1926  ...         1   \n",
       "604      1Story             5             6        1977  ...         2   \n",
       "\n",
       "    Half Bath Bedroom AbvGr TotRms AbvGrd  Gr Liv Area  Functional  \\\n",
       "0           0             3             5          990         Typ   \n",
       "1           0             2             6         1368         Typ   \n",
       "2           0             2             6         1358         Typ   \n",
       "3           1             3             7         1837         Typ   \n",
       "4           0             3             5          923         Typ   \n",
       "..        ...           ...           ...          ...         ...   \n",
       "600         0             1             5         1306         Typ   \n",
       "601         1             4             8         1848         Typ   \n",
       "602         1             3             7         1453        Min2   \n",
       "603         0             3             6         1479         Typ   \n",
       "604         0             3             7         1647         Typ   \n",
       "\n",
       "     Screen Porch  Pool Area  Yr Sold Sale Type  \n",
       "0               0          0     2007        WD  \n",
       "1               0          0     2006       New  \n",
       "2               0          0     2010       New  \n",
       "3               0          0     2006        WD  \n",
       "4               0          0     2008        WD  \n",
       "..            ...        ...      ...       ...  \n",
       "600             0          0     2009        WD  \n",
       "601           220          0     2008        WD  \n",
       "602           148          0     2010        WD  \n",
       "603             0          0     2006        WD  \n",
       "604             0          0     2006        WD  \n",
       "\n",
       "[605 rows x 24 columns]"
      ]
     },
     "execution_count": 67,
     "metadata": {},
     "output_type": "execute_result"
    }
   ],
   "source": [
    "test\n",
    "#No nan values so no early transforming"
   ]
  },
  {
   "cell_type": "code",
   "execution_count": 95,
   "id": "295f7d23-6877-4ba6-984f-609e086860df",
   "metadata": {
    "tags": []
   },
   "outputs": [
    {
     "data": {
      "text/plain": [
       "array(['Pave', 'Grvl'], dtype=object)"
      ]
     },
     "execution_count": 95,
     "metadata": {},
     "output_type": "execute_result"
    }
   ],
   "source": [
    "test['Street'].unique()"
   ]
  },
  {
   "cell_type": "code",
   "execution_count": 124,
   "id": "70e7aebc-9f86-4124-a3db-4a8d87bf0459",
   "metadata": {
    "tags": []
   },
   "outputs": [],
   "source": [
    "X_test = test.drop(['PID'],axis=1)"
   ]
  },
  {
   "cell_type": "code",
   "execution_count": 127,
   "id": "b32cb441-70d4-4ed7-9bfe-d8975b07284b",
   "metadata": {
    "tags": []
   },
   "outputs": [
    {
     "data": {
      "text/plain": [
       "0"
      ]
     },
     "execution_count": 127,
     "metadata": {},
     "output_type": "execute_result"
    }
   ],
   "source": [
    "X_test.isna().sum().sum()"
   ]
  },
  {
   "cell_type": "code",
   "execution_count": 137,
   "id": "ed237989-0e63-4fbf-8a95-87e0d542ca86",
   "metadata": {
    "tags": []
   },
   "outputs": [
    {
     "data": {
      "text/html": [
       "<style>#sk-container-id-1 {color: black;}#sk-container-id-1 pre{padding: 0;}#sk-container-id-1 div.sk-toggleable {background-color: white;}#sk-container-id-1 label.sk-toggleable__label {cursor: pointer;display: block;width: 100%;margin-bottom: 0;padding: 0.3em;box-sizing: border-box;text-align: center;}#sk-container-id-1 label.sk-toggleable__label-arrow:before {content: \"▸\";float: left;margin-right: 0.25em;color: #696969;}#sk-container-id-1 label.sk-toggleable__label-arrow:hover:before {color: black;}#sk-container-id-1 div.sk-estimator:hover label.sk-toggleable__label-arrow:before {color: black;}#sk-container-id-1 div.sk-toggleable__content {max-height: 0;max-width: 0;overflow: hidden;text-align: left;background-color: #f0f8ff;}#sk-container-id-1 div.sk-toggleable__content pre {margin: 0.2em;color: black;border-radius: 0.25em;background-color: #f0f8ff;}#sk-container-id-1 input.sk-toggleable__control:checked~div.sk-toggleable__content {max-height: 200px;max-width: 100%;overflow: auto;}#sk-container-id-1 input.sk-toggleable__control:checked~label.sk-toggleable__label-arrow:before {content: \"▾\";}#sk-container-id-1 div.sk-estimator input.sk-toggleable__control:checked~label.sk-toggleable__label {background-color: #d4ebff;}#sk-container-id-1 div.sk-label input.sk-toggleable__control:checked~label.sk-toggleable__label {background-color: #d4ebff;}#sk-container-id-1 input.sk-hidden--visually {border: 0;clip: rect(1px 1px 1px 1px);clip: rect(1px, 1px, 1px, 1px);height: 1px;margin: -1px;overflow: hidden;padding: 0;position: absolute;width: 1px;}#sk-container-id-1 div.sk-estimator {font-family: monospace;background-color: #f0f8ff;border: 1px dotted black;border-radius: 0.25em;box-sizing: border-box;margin-bottom: 0.5em;}#sk-container-id-1 div.sk-estimator:hover {background-color: #d4ebff;}#sk-container-id-1 div.sk-parallel-item::after {content: \"\";width: 100%;border-bottom: 1px solid gray;flex-grow: 1;}#sk-container-id-1 div.sk-label:hover label.sk-toggleable__label {background-color: #d4ebff;}#sk-container-id-1 div.sk-serial::before {content: \"\";position: absolute;border-left: 1px solid gray;box-sizing: border-box;top: 0;bottom: 0;left: 50%;z-index: 0;}#sk-container-id-1 div.sk-serial {display: flex;flex-direction: column;align-items: center;background-color: white;padding-right: 0.2em;padding-left: 0.2em;position: relative;}#sk-container-id-1 div.sk-item {position: relative;z-index: 1;}#sk-container-id-1 div.sk-parallel {display: flex;align-items: stretch;justify-content: center;background-color: white;position: relative;}#sk-container-id-1 div.sk-item::before, #sk-container-id-1 div.sk-parallel-item::before {content: \"\";position: absolute;border-left: 1px solid gray;box-sizing: border-box;top: 0;bottom: 0;left: 50%;z-index: -1;}#sk-container-id-1 div.sk-parallel-item {display: flex;flex-direction: column;z-index: 1;position: relative;background-color: white;}#sk-container-id-1 div.sk-parallel-item:first-child::after {align-self: flex-end;width: 50%;}#sk-container-id-1 div.sk-parallel-item:last-child::after {align-self: flex-start;width: 50%;}#sk-container-id-1 div.sk-parallel-item:only-child::after {width: 0;}#sk-container-id-1 div.sk-dashed-wrapped {border: 1px dashed gray;margin: 0 0.4em 0.5em 0.4em;box-sizing: border-box;padding-bottom: 0.4em;background-color: white;}#sk-container-id-1 div.sk-label label {font-family: monospace;font-weight: bold;display: inline-block;line-height: 1.2em;}#sk-container-id-1 div.sk-label-container {text-align: center;}#sk-container-id-1 div.sk-container {/* jupyter's `normalize.less` sets `[hidden] { display: none; }` but bootstrap.min.css set `[hidden] { display: none !important; }` so we also need the `!important` here to be able to override the default hidden behavior on the sphinx rendered scikit-learn.org. See: https://github.com/scikit-learn/scikit-learn/issues/21755 */display: inline-block !important;position: relative;}#sk-container-id-1 div.sk-text-repr-fallback {display: none;}</style><div id=\"sk-container-id-1\" class=\"sk-top-container\"><div class=\"sk-text-repr-fallback\"><pre>ColumnTransformer(remainder=&#x27;passthrough&#x27;,\n",
       "                  transformers=[(&#x27;dummify&#x27;,\n",
       "                                 OneHotEncoder(handle_unknown=&#x27;ignore&#x27;,\n",
       "                                               sparse_output=False),\n",
       "                                 &lt;sklearn.compose._column_transformer.make_column_selector object at 0x00000216823C8CD0&gt;),\n",
       "                                (&#x27;standardize&#x27;, StandardScaler(),\n",
       "                                 &lt;sklearn.compose._column_transformer.make_column_selector object at 0x000002168239C550&gt;)])</pre><b>In a Jupyter environment, please rerun this cell to show the HTML representation or trust the notebook. <br />On GitHub, the HTML representation is unable to render, please try loading this page with nbviewer.org.</b></div><div class=\"sk-container\" hidden><div class=\"sk-item sk-dashed-wrapped\"><div class=\"sk-label-container\"><div class=\"sk-label sk-toggleable\"><input class=\"sk-toggleable__control sk-hidden--visually\" id=\"sk-estimator-id-1\" type=\"checkbox\" ><label for=\"sk-estimator-id-1\" class=\"sk-toggleable__label sk-toggleable__label-arrow\">ColumnTransformer</label><div class=\"sk-toggleable__content\"><pre>ColumnTransformer(remainder=&#x27;passthrough&#x27;,\n",
       "                  transformers=[(&#x27;dummify&#x27;,\n",
       "                                 OneHotEncoder(handle_unknown=&#x27;ignore&#x27;,\n",
       "                                               sparse_output=False),\n",
       "                                 &lt;sklearn.compose._column_transformer.make_column_selector object at 0x00000216823C8CD0&gt;),\n",
       "                                (&#x27;standardize&#x27;, StandardScaler(),\n",
       "                                 &lt;sklearn.compose._column_transformer.make_column_selector object at 0x000002168239C550&gt;)])</pre></div></div></div><div class=\"sk-parallel\"><div class=\"sk-parallel-item\"><div class=\"sk-item\"><div class=\"sk-label-container\"><div class=\"sk-label sk-toggleable\"><input class=\"sk-toggleable__control sk-hidden--visually\" id=\"sk-estimator-id-2\" type=\"checkbox\" ><label for=\"sk-estimator-id-2\" class=\"sk-toggleable__label sk-toggleable__label-arrow\">dummify</label><div class=\"sk-toggleable__content\"><pre>&lt;sklearn.compose._column_transformer.make_column_selector object at 0x00000216823C8CD0&gt;</pre></div></div></div><div class=\"sk-serial\"><div class=\"sk-item\"><div class=\"sk-estimator sk-toggleable\"><input class=\"sk-toggleable__control sk-hidden--visually\" id=\"sk-estimator-id-3\" type=\"checkbox\" ><label for=\"sk-estimator-id-3\" class=\"sk-toggleable__label sk-toggleable__label-arrow\">OneHotEncoder</label><div class=\"sk-toggleable__content\"><pre>OneHotEncoder(handle_unknown=&#x27;ignore&#x27;, sparse_output=False)</pre></div></div></div></div></div></div><div class=\"sk-parallel-item\"><div class=\"sk-item\"><div class=\"sk-label-container\"><div class=\"sk-label sk-toggleable\"><input class=\"sk-toggleable__control sk-hidden--visually\" id=\"sk-estimator-id-4\" type=\"checkbox\" ><label for=\"sk-estimator-id-4\" class=\"sk-toggleable__label sk-toggleable__label-arrow\">standardize</label><div class=\"sk-toggleable__content\"><pre>&lt;sklearn.compose._column_transformer.make_column_selector object at 0x000002168239C550&gt;</pre></div></div></div><div class=\"sk-serial\"><div class=\"sk-item\"><div class=\"sk-estimator sk-toggleable\"><input class=\"sk-toggleable__control sk-hidden--visually\" id=\"sk-estimator-id-5\" type=\"checkbox\" ><label for=\"sk-estimator-id-5\" class=\"sk-toggleable__label sk-toggleable__label-arrow\">StandardScaler</label><div class=\"sk-toggleable__content\"><pre>StandardScaler()</pre></div></div></div></div></div></div><div class=\"sk-parallel-item\"><div class=\"sk-item\"><div class=\"sk-label-container\"><div class=\"sk-label sk-toggleable\"><input class=\"sk-toggleable__control sk-hidden--visually\" id=\"sk-estimator-id-6\" type=\"checkbox\" ><label for=\"sk-estimator-id-6\" class=\"sk-toggleable__label sk-toggleable__label-arrow\">remainder</label><div class=\"sk-toggleable__content\"><pre>[]</pre></div></div></div><div class=\"sk-serial\"><div class=\"sk-item\"><div class=\"sk-estimator sk-toggleable\"><input class=\"sk-toggleable__control sk-hidden--visually\" id=\"sk-estimator-id-7\" type=\"checkbox\" ><label for=\"sk-estimator-id-7\" class=\"sk-toggleable__label sk-toggleable__label-arrow\">passthrough</label><div class=\"sk-toggleable__content\"><pre>passthrough</pre></div></div></div></div></div></div></div></div></div></div>"
      ],
      "text/plain": [
       "ColumnTransformer(remainder='passthrough',\n",
       "                  transformers=[('dummify',\n",
       "                                 OneHotEncoder(handle_unknown='ignore',\n",
       "                                               sparse_output=False),\n",
       "                                 <sklearn.compose._column_transformer.make_column_selector object at 0x00000216823C8CD0>),\n",
       "                                ('standardize', StandardScaler(),\n",
       "                                 <sklearn.compose._column_transformer.make_column_selector object at 0x000002168239C550>)])"
      ]
     },
     "execution_count": 137,
     "metadata": {},
     "output_type": "execute_result"
    }
   ],
   "source": [
    "ct.set_output(transform=None)"
   ]
  },
  {
   "cell_type": "code",
   "execution_count": 138,
   "id": "420c2d7f-6e04-42df-a5eb-78125c370247",
   "metadata": {
    "tags": []
   },
   "outputs": [
    {
     "ename": "ValueError",
     "evalue": "The feature names should match those that were passed during fit.\nFeature names unseen at fit time:\n- standardize__Overall Cond\n- standardize__Overall Qual\nFeature names seen at fit time, yet now missing:\n- dummify__Electrical_Mix\n- dummify__Functional_Sev\n- dummify__Heating_Floor\n- dummify__Heating_Grav\n- dummify__Heating_OthW\n- ...\n",
     "output_type": "error",
     "traceback": [
      "\u001b[1;31m---------------------------------------------------------------------------\u001b[0m",
      "\u001b[1;31mValueError\u001b[0m                                Traceback (most recent call last)",
      "Cell \u001b[1;32mIn[138], line 11\u001b[0m\n\u001b[0;32m      8\u001b[0m ct_fitted \u001b[38;5;241m=\u001b[39m ct\u001b[38;5;241m.\u001b[39mfit(X_test)\n\u001b[0;32m     10\u001b[0m new_X_test \u001b[38;5;241m=\u001b[39m ct\u001b[38;5;241m.\u001b[39mtransform(X_test)\n\u001b[1;32m---> 11\u001b[0m model\u001b[38;5;241m.\u001b[39mpredict(new_X_test)\n",
      "File \u001b[1;32m~\\anaconda3\\Lib\\site-packages\\sklearn\\linear_model\\_base.py:386\u001b[0m, in \u001b[0;36mLinearModel.predict\u001b[1;34m(self, X)\u001b[0m\n\u001b[0;32m    372\u001b[0m \u001b[38;5;28;01mdef\u001b[39;00m \u001b[38;5;21mpredict\u001b[39m(\u001b[38;5;28mself\u001b[39m, X):\n\u001b[0;32m    373\u001b[0m \u001b[38;5;250m    \u001b[39m\u001b[38;5;124;03m\"\"\"\u001b[39;00m\n\u001b[0;32m    374\u001b[0m \u001b[38;5;124;03m    Predict using the linear model.\u001b[39;00m\n\u001b[0;32m    375\u001b[0m \n\u001b[1;32m   (...)\u001b[0m\n\u001b[0;32m    384\u001b[0m \u001b[38;5;124;03m        Returns predicted values.\u001b[39;00m\n\u001b[0;32m    385\u001b[0m \u001b[38;5;124;03m    \"\"\"\u001b[39;00m\n\u001b[1;32m--> 386\u001b[0m     \u001b[38;5;28;01mreturn\u001b[39;00m \u001b[38;5;28mself\u001b[39m\u001b[38;5;241m.\u001b[39m_decision_function(X)\n",
      "File \u001b[1;32m~\\anaconda3\\Lib\\site-packages\\sklearn\\linear_model\\_coordinate_descent.py:1071\u001b[0m, in \u001b[0;36mElasticNet._decision_function\u001b[1;34m(self, X)\u001b[0m\n\u001b[0;32m   1069\u001b[0m     \u001b[38;5;28;01mreturn\u001b[39;00m safe_sparse_dot(X, \u001b[38;5;28mself\u001b[39m\u001b[38;5;241m.\u001b[39mcoef_\u001b[38;5;241m.\u001b[39mT, dense_output\u001b[38;5;241m=\u001b[39m\u001b[38;5;28;01mTrue\u001b[39;00m) \u001b[38;5;241m+\u001b[39m \u001b[38;5;28mself\u001b[39m\u001b[38;5;241m.\u001b[39mintercept_\n\u001b[0;32m   1070\u001b[0m \u001b[38;5;28;01melse\u001b[39;00m:\n\u001b[1;32m-> 1071\u001b[0m     \u001b[38;5;28;01mreturn\u001b[39;00m \u001b[38;5;28msuper\u001b[39m()\u001b[38;5;241m.\u001b[39m_decision_function(X)\n",
      "File \u001b[1;32m~\\anaconda3\\Lib\\site-packages\\sklearn\\linear_model\\_base.py:369\u001b[0m, in \u001b[0;36mLinearModel._decision_function\u001b[1;34m(self, X)\u001b[0m\n\u001b[0;32m    366\u001b[0m \u001b[38;5;28;01mdef\u001b[39;00m \u001b[38;5;21m_decision_function\u001b[39m(\u001b[38;5;28mself\u001b[39m, X):\n\u001b[0;32m    367\u001b[0m     check_is_fitted(\u001b[38;5;28mself\u001b[39m)\n\u001b[1;32m--> 369\u001b[0m     X \u001b[38;5;241m=\u001b[39m \u001b[38;5;28mself\u001b[39m\u001b[38;5;241m.\u001b[39m_validate_data(X, accept_sparse\u001b[38;5;241m=\u001b[39m[\u001b[38;5;124m\"\u001b[39m\u001b[38;5;124mcsr\u001b[39m\u001b[38;5;124m\"\u001b[39m, \u001b[38;5;124m\"\u001b[39m\u001b[38;5;124mcsc\u001b[39m\u001b[38;5;124m\"\u001b[39m, \u001b[38;5;124m\"\u001b[39m\u001b[38;5;124mcoo\u001b[39m\u001b[38;5;124m\"\u001b[39m], reset\u001b[38;5;241m=\u001b[39m\u001b[38;5;28;01mFalse\u001b[39;00m)\n\u001b[0;32m    370\u001b[0m     \u001b[38;5;28;01mreturn\u001b[39;00m safe_sparse_dot(X, \u001b[38;5;28mself\u001b[39m\u001b[38;5;241m.\u001b[39mcoef_\u001b[38;5;241m.\u001b[39mT, dense_output\u001b[38;5;241m=\u001b[39m\u001b[38;5;28;01mTrue\u001b[39;00m) \u001b[38;5;241m+\u001b[39m \u001b[38;5;28mself\u001b[39m\u001b[38;5;241m.\u001b[39mintercept_\n",
      "File \u001b[1;32m~\\anaconda3\\Lib\\site-packages\\sklearn\\base.py:579\u001b[0m, in \u001b[0;36mBaseEstimator._validate_data\u001b[1;34m(self, X, y, reset, validate_separately, cast_to_ndarray, **check_params)\u001b[0m\n\u001b[0;32m    508\u001b[0m \u001b[38;5;28;01mdef\u001b[39;00m \u001b[38;5;21m_validate_data\u001b[39m(\n\u001b[0;32m    509\u001b[0m     \u001b[38;5;28mself\u001b[39m,\n\u001b[0;32m    510\u001b[0m     X\u001b[38;5;241m=\u001b[39m\u001b[38;5;124m\"\u001b[39m\u001b[38;5;124mno_validation\u001b[39m\u001b[38;5;124m\"\u001b[39m,\n\u001b[1;32m   (...)\u001b[0m\n\u001b[0;32m    515\u001b[0m     \u001b[38;5;241m*\u001b[39m\u001b[38;5;241m*\u001b[39mcheck_params,\n\u001b[0;32m    516\u001b[0m ):\n\u001b[0;32m    517\u001b[0m \u001b[38;5;250m    \u001b[39m\u001b[38;5;124;03m\"\"\"Validate input data and set or check the `n_features_in_` attribute.\u001b[39;00m\n\u001b[0;32m    518\u001b[0m \n\u001b[0;32m    519\u001b[0m \u001b[38;5;124;03m    Parameters\u001b[39;00m\n\u001b[1;32m   (...)\u001b[0m\n\u001b[0;32m    577\u001b[0m \u001b[38;5;124;03m        validated.\u001b[39;00m\n\u001b[0;32m    578\u001b[0m \u001b[38;5;124;03m    \"\"\"\u001b[39;00m\n\u001b[1;32m--> 579\u001b[0m     \u001b[38;5;28mself\u001b[39m\u001b[38;5;241m.\u001b[39m_check_feature_names(X, reset\u001b[38;5;241m=\u001b[39mreset)\n\u001b[0;32m    581\u001b[0m     \u001b[38;5;28;01mif\u001b[39;00m y \u001b[38;5;129;01mis\u001b[39;00m \u001b[38;5;28;01mNone\u001b[39;00m \u001b[38;5;129;01mand\u001b[39;00m \u001b[38;5;28mself\u001b[39m\u001b[38;5;241m.\u001b[39m_get_tags()[\u001b[38;5;124m\"\u001b[39m\u001b[38;5;124mrequires_y\u001b[39m\u001b[38;5;124m\"\u001b[39m]:\n\u001b[0;32m    582\u001b[0m         \u001b[38;5;28;01mraise\u001b[39;00m \u001b[38;5;167;01mValueError\u001b[39;00m(\n\u001b[0;32m    583\u001b[0m             \u001b[38;5;124mf\u001b[39m\u001b[38;5;124m\"\u001b[39m\u001b[38;5;124mThis \u001b[39m\u001b[38;5;132;01m{\u001b[39;00m\u001b[38;5;28mself\u001b[39m\u001b[38;5;241m.\u001b[39m\u001b[38;5;18m__class__\u001b[39m\u001b[38;5;241m.\u001b[39m\u001b[38;5;18m__name__\u001b[39m\u001b[38;5;132;01m}\u001b[39;00m\u001b[38;5;124m estimator \u001b[39m\u001b[38;5;124m\"\u001b[39m\n\u001b[0;32m    584\u001b[0m             \u001b[38;5;124m\"\u001b[39m\u001b[38;5;124mrequires y to be passed, but the target y is None.\u001b[39m\u001b[38;5;124m\"\u001b[39m\n\u001b[0;32m    585\u001b[0m         )\n",
      "File \u001b[1;32m~\\anaconda3\\Lib\\site-packages\\sklearn\\base.py:506\u001b[0m, in \u001b[0;36mBaseEstimator._check_feature_names\u001b[1;34m(self, X, reset)\u001b[0m\n\u001b[0;32m    501\u001b[0m \u001b[38;5;28;01mif\u001b[39;00m \u001b[38;5;129;01mnot\u001b[39;00m missing_names \u001b[38;5;129;01mand\u001b[39;00m \u001b[38;5;129;01mnot\u001b[39;00m unexpected_names:\n\u001b[0;32m    502\u001b[0m     message \u001b[38;5;241m+\u001b[39m\u001b[38;5;241m=\u001b[39m (\n\u001b[0;32m    503\u001b[0m         \u001b[38;5;124m\"\u001b[39m\u001b[38;5;124mFeature names must be in the same order as they were in fit.\u001b[39m\u001b[38;5;130;01m\\n\u001b[39;00m\u001b[38;5;124m\"\u001b[39m\n\u001b[0;32m    504\u001b[0m     )\n\u001b[1;32m--> 506\u001b[0m \u001b[38;5;28;01mraise\u001b[39;00m \u001b[38;5;167;01mValueError\u001b[39;00m(message)\n",
      "\u001b[1;31mValueError\u001b[0m: The feature names should match those that were passed during fit.\nFeature names unseen at fit time:\n- standardize__Overall Cond\n- standardize__Overall Qual\nFeature names seen at fit time, yet now missing:\n- dummify__Electrical_Mix\n- dummify__Functional_Sev\n- dummify__Heating_Floor\n- dummify__Heating_Grav\n- dummify__Heating_OthW\n- ...\n"
     ]
    }
   ],
   "source": [
    "ct_fitted = ct.fit(X_train)\n",
    "\n",
    "new_X_train = ct.transform(X_train)\n",
    "\n",
    "model = ElasticNet()\n",
    "model.fit(new_X_train,y_train)\n",
    "\n",
    "ct_fitted = ct.fit(X_test)\n",
    "\n",
    "new_X_test = ct.transform(X_test)\n",
    "model.predict(new_X_test)"
   ]
  },
  {
   "cell_type": "code",
   "execution_count": 125,
   "id": "995dd0ba-c0d8-4777-992e-878cd446fa5c",
   "metadata": {
    "tags": []
   },
   "outputs": [
    {
     "ename": "TypeError",
     "evalue": "ufunc 'isnan' not supported for the input types, and the inputs could not be safely coerced to any supported types according to the casting rule ''safe''",
     "output_type": "error",
     "traceback": [
      "\u001b[1;31m---------------------------------------------------------------------------\u001b[0m",
      "\u001b[1;31mTypeError\u001b[0m                                 Traceback (most recent call last)",
      "Cell \u001b[1;32mIn[125], line 8\u001b[0m\n\u001b[0;32m      6\u001b[0m pipe\u001b[38;5;241m.\u001b[39mfit(X_train,y_train)\n\u001b[0;32m      7\u001b[0m \u001b[38;5;66;03m# Make predictions on the test set\u001b[39;00m\n\u001b[1;32m----> 8\u001b[0m y_pred \u001b[38;5;241m=\u001b[39m pipe\u001b[38;5;241m.\u001b[39mpredict(X_test)\n\u001b[0;32m     10\u001b[0m \u001b[38;5;66;03m#make into dataframe with id_num\u001b[39;00m\n\u001b[0;32m     11\u001b[0m res \u001b[38;5;241m=\u001b[39m pd\u001b[38;5;241m.\u001b[39mDataFrame({\u001b[38;5;124m'\u001b[39m\u001b[38;5;124mPID\u001b[39m\u001b[38;5;124m'\u001b[39m:test[\u001b[38;5;124m'\u001b[39m\u001b[38;5;124mPID\u001b[39m\u001b[38;5;124m'\u001b[39m],\u001b[38;5;124m'\u001b[39m\u001b[38;5;124mSalePrice\u001b[39m\u001b[38;5;124m'\u001b[39m:y_pred})\n",
      "File \u001b[1;32m~\\anaconda3\\Lib\\site-packages\\sklearn\\pipeline.py:507\u001b[0m, in \u001b[0;36mPipeline.predict\u001b[1;34m(self, X, **predict_params)\u001b[0m\n\u001b[0;32m    505\u001b[0m Xt \u001b[38;5;241m=\u001b[39m X\n\u001b[0;32m    506\u001b[0m \u001b[38;5;28;01mfor\u001b[39;00m _, name, transform \u001b[38;5;129;01min\u001b[39;00m \u001b[38;5;28mself\u001b[39m\u001b[38;5;241m.\u001b[39m_iter(with_final\u001b[38;5;241m=\u001b[39m\u001b[38;5;28;01mFalse\u001b[39;00m):\n\u001b[1;32m--> 507\u001b[0m     Xt \u001b[38;5;241m=\u001b[39m transform\u001b[38;5;241m.\u001b[39mtransform(Xt)\n\u001b[0;32m    508\u001b[0m \u001b[38;5;28;01mreturn\u001b[39;00m \u001b[38;5;28mself\u001b[39m\u001b[38;5;241m.\u001b[39msteps[\u001b[38;5;241m-\u001b[39m\u001b[38;5;241m1\u001b[39m][\u001b[38;5;241m1\u001b[39m]\u001b[38;5;241m.\u001b[39mpredict(Xt, \u001b[38;5;241m*\u001b[39m\u001b[38;5;241m*\u001b[39mpredict_params)\n",
      "File \u001b[1;32m~\\anaconda3\\Lib\\site-packages\\sklearn\\utils\\_set_output.py:140\u001b[0m, in \u001b[0;36m_wrap_method_output.<locals>.wrapped\u001b[1;34m(self, X, *args, **kwargs)\u001b[0m\n\u001b[0;32m    138\u001b[0m \u001b[38;5;129m@wraps\u001b[39m(f)\n\u001b[0;32m    139\u001b[0m \u001b[38;5;28;01mdef\u001b[39;00m \u001b[38;5;21mwrapped\u001b[39m(\u001b[38;5;28mself\u001b[39m, X, \u001b[38;5;241m*\u001b[39margs, \u001b[38;5;241m*\u001b[39m\u001b[38;5;241m*\u001b[39mkwargs):\n\u001b[1;32m--> 140\u001b[0m     data_to_wrap \u001b[38;5;241m=\u001b[39m f(\u001b[38;5;28mself\u001b[39m, X, \u001b[38;5;241m*\u001b[39margs, \u001b[38;5;241m*\u001b[39m\u001b[38;5;241m*\u001b[39mkwargs)\n\u001b[0;32m    141\u001b[0m     \u001b[38;5;28;01mif\u001b[39;00m \u001b[38;5;28misinstance\u001b[39m(data_to_wrap, \u001b[38;5;28mtuple\u001b[39m):\n\u001b[0;32m    142\u001b[0m         \u001b[38;5;66;03m# only wrap the first output for cross decomposition\u001b[39;00m\n\u001b[0;32m    143\u001b[0m         return_tuple \u001b[38;5;241m=\u001b[39m (\n\u001b[0;32m    144\u001b[0m             _wrap_data_with_container(method, data_to_wrap[\u001b[38;5;241m0\u001b[39m], X, \u001b[38;5;28mself\u001b[39m),\n\u001b[0;32m    145\u001b[0m             \u001b[38;5;241m*\u001b[39mdata_to_wrap[\u001b[38;5;241m1\u001b[39m:],\n\u001b[0;32m    146\u001b[0m         )\n",
      "File \u001b[1;32m~\\anaconda3\\Lib\\site-packages\\sklearn\\compose\\_column_transformer.py:816\u001b[0m, in \u001b[0;36mColumnTransformer.transform\u001b[1;34m(self, X)\u001b[0m\n\u001b[0;32m    811\u001b[0m \u001b[38;5;28;01melse\u001b[39;00m:\n\u001b[0;32m    812\u001b[0m     \u001b[38;5;66;03m# ndarray was used for fitting or transforming, thus we only\u001b[39;00m\n\u001b[0;32m    813\u001b[0m     \u001b[38;5;66;03m# check that n_features_in_ is consistent\u001b[39;00m\n\u001b[0;32m    814\u001b[0m     \u001b[38;5;28mself\u001b[39m\u001b[38;5;241m.\u001b[39m_check_n_features(X, reset\u001b[38;5;241m=\u001b[39m\u001b[38;5;28;01mFalse\u001b[39;00m)\n\u001b[1;32m--> 816\u001b[0m Xs \u001b[38;5;241m=\u001b[39m \u001b[38;5;28mself\u001b[39m\u001b[38;5;241m.\u001b[39m_fit_transform(\n\u001b[0;32m    817\u001b[0m     X,\n\u001b[0;32m    818\u001b[0m     \u001b[38;5;28;01mNone\u001b[39;00m,\n\u001b[0;32m    819\u001b[0m     _transform_one,\n\u001b[0;32m    820\u001b[0m     fitted\u001b[38;5;241m=\u001b[39m\u001b[38;5;28;01mTrue\u001b[39;00m,\n\u001b[0;32m    821\u001b[0m     column_as_strings\u001b[38;5;241m=\u001b[39mfit_dataframe_and_transform_dataframe,\n\u001b[0;32m    822\u001b[0m )\n\u001b[0;32m    823\u001b[0m \u001b[38;5;28mself\u001b[39m\u001b[38;5;241m.\u001b[39m_validate_output(Xs)\n\u001b[0;32m    825\u001b[0m \u001b[38;5;28;01mif\u001b[39;00m \u001b[38;5;129;01mnot\u001b[39;00m Xs:\n\u001b[0;32m    826\u001b[0m     \u001b[38;5;66;03m# All transformers are None\u001b[39;00m\n",
      "File \u001b[1;32m~\\anaconda3\\Lib\\site-packages\\sklearn\\compose\\_column_transformer.py:670\u001b[0m, in \u001b[0;36mColumnTransformer._fit_transform\u001b[1;34m(self, X, y, func, fitted, column_as_strings)\u001b[0m\n\u001b[0;32m    664\u001b[0m transformers \u001b[38;5;241m=\u001b[39m \u001b[38;5;28mlist\u001b[39m(\n\u001b[0;32m    665\u001b[0m     \u001b[38;5;28mself\u001b[39m\u001b[38;5;241m.\u001b[39m_iter(\n\u001b[0;32m    666\u001b[0m         fitted\u001b[38;5;241m=\u001b[39mfitted, replace_strings\u001b[38;5;241m=\u001b[39m\u001b[38;5;28;01mTrue\u001b[39;00m, column_as_strings\u001b[38;5;241m=\u001b[39mcolumn_as_strings\n\u001b[0;32m    667\u001b[0m     )\n\u001b[0;32m    668\u001b[0m )\n\u001b[0;32m    669\u001b[0m \u001b[38;5;28;01mtry\u001b[39;00m:\n\u001b[1;32m--> 670\u001b[0m     \u001b[38;5;28;01mreturn\u001b[39;00m Parallel(n_jobs\u001b[38;5;241m=\u001b[39m\u001b[38;5;28mself\u001b[39m\u001b[38;5;241m.\u001b[39mn_jobs)(\n\u001b[0;32m    671\u001b[0m         delayed(func)(\n\u001b[0;32m    672\u001b[0m             transformer\u001b[38;5;241m=\u001b[39mclone(trans) \u001b[38;5;28;01mif\u001b[39;00m \u001b[38;5;129;01mnot\u001b[39;00m fitted \u001b[38;5;28;01melse\u001b[39;00m trans,\n\u001b[0;32m    673\u001b[0m             X\u001b[38;5;241m=\u001b[39m_safe_indexing(X, column, axis\u001b[38;5;241m=\u001b[39m\u001b[38;5;241m1\u001b[39m),\n\u001b[0;32m    674\u001b[0m             y\u001b[38;5;241m=\u001b[39my,\n\u001b[0;32m    675\u001b[0m             weight\u001b[38;5;241m=\u001b[39mweight,\n\u001b[0;32m    676\u001b[0m             message_clsname\u001b[38;5;241m=\u001b[39m\u001b[38;5;124m\"\u001b[39m\u001b[38;5;124mColumnTransformer\u001b[39m\u001b[38;5;124m\"\u001b[39m,\n\u001b[0;32m    677\u001b[0m             message\u001b[38;5;241m=\u001b[39m\u001b[38;5;28mself\u001b[39m\u001b[38;5;241m.\u001b[39m_log_message(name, idx, \u001b[38;5;28mlen\u001b[39m(transformers)),\n\u001b[0;32m    678\u001b[0m         )\n\u001b[0;32m    679\u001b[0m         \u001b[38;5;28;01mfor\u001b[39;00m idx, (name, trans, column, weight) \u001b[38;5;129;01min\u001b[39;00m \u001b[38;5;28menumerate\u001b[39m(transformers, \u001b[38;5;241m1\u001b[39m)\n\u001b[0;32m    680\u001b[0m     )\n\u001b[0;32m    681\u001b[0m \u001b[38;5;28;01mexcept\u001b[39;00m \u001b[38;5;167;01mValueError\u001b[39;00m \u001b[38;5;28;01mas\u001b[39;00m e:\n\u001b[0;32m    682\u001b[0m     \u001b[38;5;28;01mif\u001b[39;00m \u001b[38;5;124m\"\u001b[39m\u001b[38;5;124mExpected 2D array, got 1D array instead\u001b[39m\u001b[38;5;124m\"\u001b[39m \u001b[38;5;129;01min\u001b[39;00m \u001b[38;5;28mstr\u001b[39m(e):\n",
      "File \u001b[1;32m~\\anaconda3\\Lib\\site-packages\\sklearn\\utils\\parallel.py:65\u001b[0m, in \u001b[0;36mParallel.__call__\u001b[1;34m(self, iterable)\u001b[0m\n\u001b[0;32m     60\u001b[0m config \u001b[38;5;241m=\u001b[39m get_config()\n\u001b[0;32m     61\u001b[0m iterable_with_config \u001b[38;5;241m=\u001b[39m (\n\u001b[0;32m     62\u001b[0m     (_with_config(delayed_func, config), args, kwargs)\n\u001b[0;32m     63\u001b[0m     \u001b[38;5;28;01mfor\u001b[39;00m delayed_func, args, kwargs \u001b[38;5;129;01min\u001b[39;00m iterable\n\u001b[0;32m     64\u001b[0m )\n\u001b[1;32m---> 65\u001b[0m \u001b[38;5;28;01mreturn\u001b[39;00m \u001b[38;5;28msuper\u001b[39m()\u001b[38;5;241m.\u001b[39m\u001b[38;5;21m__call__\u001b[39m(iterable_with_config)\n",
      "File \u001b[1;32m~\\anaconda3\\Lib\\site-packages\\joblib\\parallel.py:1085\u001b[0m, in \u001b[0;36mParallel.__call__\u001b[1;34m(self, iterable)\u001b[0m\n\u001b[0;32m   1076\u001b[0m \u001b[38;5;28;01mtry\u001b[39;00m:\n\u001b[0;32m   1077\u001b[0m     \u001b[38;5;66;03m# Only set self._iterating to True if at least a batch\u001b[39;00m\n\u001b[0;32m   1078\u001b[0m     \u001b[38;5;66;03m# was dispatched. In particular this covers the edge\u001b[39;00m\n\u001b[1;32m   (...)\u001b[0m\n\u001b[0;32m   1082\u001b[0m     \u001b[38;5;66;03m# was very quick and its callback already dispatched all the\u001b[39;00m\n\u001b[0;32m   1083\u001b[0m     \u001b[38;5;66;03m# remaining jobs.\u001b[39;00m\n\u001b[0;32m   1084\u001b[0m     \u001b[38;5;28mself\u001b[39m\u001b[38;5;241m.\u001b[39m_iterating \u001b[38;5;241m=\u001b[39m \u001b[38;5;28;01mFalse\u001b[39;00m\n\u001b[1;32m-> 1085\u001b[0m     \u001b[38;5;28;01mif\u001b[39;00m \u001b[38;5;28mself\u001b[39m\u001b[38;5;241m.\u001b[39mdispatch_one_batch(iterator):\n\u001b[0;32m   1086\u001b[0m         \u001b[38;5;28mself\u001b[39m\u001b[38;5;241m.\u001b[39m_iterating \u001b[38;5;241m=\u001b[39m \u001b[38;5;28mself\u001b[39m\u001b[38;5;241m.\u001b[39m_original_iterator \u001b[38;5;129;01mis\u001b[39;00m \u001b[38;5;129;01mnot\u001b[39;00m \u001b[38;5;28;01mNone\u001b[39;00m\n\u001b[0;32m   1088\u001b[0m     \u001b[38;5;28;01mwhile\u001b[39;00m \u001b[38;5;28mself\u001b[39m\u001b[38;5;241m.\u001b[39mdispatch_one_batch(iterator):\n",
      "File \u001b[1;32m~\\anaconda3\\Lib\\site-packages\\joblib\\parallel.py:901\u001b[0m, in \u001b[0;36mParallel.dispatch_one_batch\u001b[1;34m(self, iterator)\u001b[0m\n\u001b[0;32m    899\u001b[0m     \u001b[38;5;28;01mreturn\u001b[39;00m \u001b[38;5;28;01mFalse\u001b[39;00m\n\u001b[0;32m    900\u001b[0m \u001b[38;5;28;01melse\u001b[39;00m:\n\u001b[1;32m--> 901\u001b[0m     \u001b[38;5;28mself\u001b[39m\u001b[38;5;241m.\u001b[39m_dispatch(tasks)\n\u001b[0;32m    902\u001b[0m     \u001b[38;5;28;01mreturn\u001b[39;00m \u001b[38;5;28;01mTrue\u001b[39;00m\n",
      "File \u001b[1;32m~\\anaconda3\\Lib\\site-packages\\joblib\\parallel.py:819\u001b[0m, in \u001b[0;36mParallel._dispatch\u001b[1;34m(self, batch)\u001b[0m\n\u001b[0;32m    817\u001b[0m \u001b[38;5;28;01mwith\u001b[39;00m \u001b[38;5;28mself\u001b[39m\u001b[38;5;241m.\u001b[39m_lock:\n\u001b[0;32m    818\u001b[0m     job_idx \u001b[38;5;241m=\u001b[39m \u001b[38;5;28mlen\u001b[39m(\u001b[38;5;28mself\u001b[39m\u001b[38;5;241m.\u001b[39m_jobs)\n\u001b[1;32m--> 819\u001b[0m     job \u001b[38;5;241m=\u001b[39m \u001b[38;5;28mself\u001b[39m\u001b[38;5;241m.\u001b[39m_backend\u001b[38;5;241m.\u001b[39mapply_async(batch, callback\u001b[38;5;241m=\u001b[39mcb)\n\u001b[0;32m    820\u001b[0m     \u001b[38;5;66;03m# A job can complete so quickly than its callback is\u001b[39;00m\n\u001b[0;32m    821\u001b[0m     \u001b[38;5;66;03m# called before we get here, causing self._jobs to\u001b[39;00m\n\u001b[0;32m    822\u001b[0m     \u001b[38;5;66;03m# grow. To ensure correct results ordering, .insert is\u001b[39;00m\n\u001b[0;32m    823\u001b[0m     \u001b[38;5;66;03m# used (rather than .append) in the following line\u001b[39;00m\n\u001b[0;32m    824\u001b[0m     \u001b[38;5;28mself\u001b[39m\u001b[38;5;241m.\u001b[39m_jobs\u001b[38;5;241m.\u001b[39minsert(job_idx, job)\n",
      "File \u001b[1;32m~\\anaconda3\\Lib\\site-packages\\joblib\\_parallel_backends.py:208\u001b[0m, in \u001b[0;36mSequentialBackend.apply_async\u001b[1;34m(self, func, callback)\u001b[0m\n\u001b[0;32m    206\u001b[0m \u001b[38;5;28;01mdef\u001b[39;00m \u001b[38;5;21mapply_async\u001b[39m(\u001b[38;5;28mself\u001b[39m, func, callback\u001b[38;5;241m=\u001b[39m\u001b[38;5;28;01mNone\u001b[39;00m):\n\u001b[0;32m    207\u001b[0m \u001b[38;5;250m    \u001b[39m\u001b[38;5;124;03m\"\"\"Schedule a func to be run\"\"\"\u001b[39;00m\n\u001b[1;32m--> 208\u001b[0m     result \u001b[38;5;241m=\u001b[39m ImmediateResult(func)\n\u001b[0;32m    209\u001b[0m     \u001b[38;5;28;01mif\u001b[39;00m callback:\n\u001b[0;32m    210\u001b[0m         callback(result)\n",
      "File \u001b[1;32m~\\anaconda3\\Lib\\site-packages\\joblib\\_parallel_backends.py:597\u001b[0m, in \u001b[0;36mImmediateResult.__init__\u001b[1;34m(self, batch)\u001b[0m\n\u001b[0;32m    594\u001b[0m \u001b[38;5;28;01mdef\u001b[39;00m \u001b[38;5;21m__init__\u001b[39m(\u001b[38;5;28mself\u001b[39m, batch):\n\u001b[0;32m    595\u001b[0m     \u001b[38;5;66;03m# Don't delay the application, to avoid keeping the input\u001b[39;00m\n\u001b[0;32m    596\u001b[0m     \u001b[38;5;66;03m# arguments in memory\u001b[39;00m\n\u001b[1;32m--> 597\u001b[0m     \u001b[38;5;28mself\u001b[39m\u001b[38;5;241m.\u001b[39mresults \u001b[38;5;241m=\u001b[39m batch()\n",
      "File \u001b[1;32m~\\anaconda3\\Lib\\site-packages\\joblib\\parallel.py:288\u001b[0m, in \u001b[0;36mBatchedCalls.__call__\u001b[1;34m(self)\u001b[0m\n\u001b[0;32m    284\u001b[0m \u001b[38;5;28;01mdef\u001b[39;00m \u001b[38;5;21m__call__\u001b[39m(\u001b[38;5;28mself\u001b[39m):\n\u001b[0;32m    285\u001b[0m     \u001b[38;5;66;03m# Set the default nested backend to self._backend but do not set the\u001b[39;00m\n\u001b[0;32m    286\u001b[0m     \u001b[38;5;66;03m# change the default number of processes to -1\u001b[39;00m\n\u001b[0;32m    287\u001b[0m     \u001b[38;5;28;01mwith\u001b[39;00m parallel_backend(\u001b[38;5;28mself\u001b[39m\u001b[38;5;241m.\u001b[39m_backend, n_jobs\u001b[38;5;241m=\u001b[39m\u001b[38;5;28mself\u001b[39m\u001b[38;5;241m.\u001b[39m_n_jobs):\n\u001b[1;32m--> 288\u001b[0m         \u001b[38;5;28;01mreturn\u001b[39;00m [func(\u001b[38;5;241m*\u001b[39margs, \u001b[38;5;241m*\u001b[39m\u001b[38;5;241m*\u001b[39mkwargs)\n\u001b[0;32m    289\u001b[0m                 \u001b[38;5;28;01mfor\u001b[39;00m func, args, kwargs \u001b[38;5;129;01min\u001b[39;00m \u001b[38;5;28mself\u001b[39m\u001b[38;5;241m.\u001b[39mitems]\n",
      "File \u001b[1;32m~\\anaconda3\\Lib\\site-packages\\joblib\\parallel.py:288\u001b[0m, in \u001b[0;36m<listcomp>\u001b[1;34m(.0)\u001b[0m\n\u001b[0;32m    284\u001b[0m \u001b[38;5;28;01mdef\u001b[39;00m \u001b[38;5;21m__call__\u001b[39m(\u001b[38;5;28mself\u001b[39m):\n\u001b[0;32m    285\u001b[0m     \u001b[38;5;66;03m# Set the default nested backend to self._backend but do not set the\u001b[39;00m\n\u001b[0;32m    286\u001b[0m     \u001b[38;5;66;03m# change the default number of processes to -1\u001b[39;00m\n\u001b[0;32m    287\u001b[0m     \u001b[38;5;28;01mwith\u001b[39;00m parallel_backend(\u001b[38;5;28mself\u001b[39m\u001b[38;5;241m.\u001b[39m_backend, n_jobs\u001b[38;5;241m=\u001b[39m\u001b[38;5;28mself\u001b[39m\u001b[38;5;241m.\u001b[39m_n_jobs):\n\u001b[1;32m--> 288\u001b[0m         \u001b[38;5;28;01mreturn\u001b[39;00m [func(\u001b[38;5;241m*\u001b[39margs, \u001b[38;5;241m*\u001b[39m\u001b[38;5;241m*\u001b[39mkwargs)\n\u001b[0;32m    289\u001b[0m                 \u001b[38;5;28;01mfor\u001b[39;00m func, args, kwargs \u001b[38;5;129;01min\u001b[39;00m \u001b[38;5;28mself\u001b[39m\u001b[38;5;241m.\u001b[39mitems]\n",
      "File \u001b[1;32m~\\anaconda3\\Lib\\site-packages\\sklearn\\utils\\parallel.py:127\u001b[0m, in \u001b[0;36m_FuncWrapper.__call__\u001b[1;34m(self, *args, **kwargs)\u001b[0m\n\u001b[0;32m    125\u001b[0m     config \u001b[38;5;241m=\u001b[39m {}\n\u001b[0;32m    126\u001b[0m \u001b[38;5;28;01mwith\u001b[39;00m config_context(\u001b[38;5;241m*\u001b[39m\u001b[38;5;241m*\u001b[39mconfig):\n\u001b[1;32m--> 127\u001b[0m     \u001b[38;5;28;01mreturn\u001b[39;00m \u001b[38;5;28mself\u001b[39m\u001b[38;5;241m.\u001b[39mfunction(\u001b[38;5;241m*\u001b[39margs, \u001b[38;5;241m*\u001b[39m\u001b[38;5;241m*\u001b[39mkwargs)\n",
      "File \u001b[1;32m~\\anaconda3\\Lib\\site-packages\\sklearn\\pipeline.py:933\u001b[0m, in \u001b[0;36m_transform_one\u001b[1;34m(transformer, X, y, weight, **fit_params)\u001b[0m\n\u001b[0;32m    932\u001b[0m \u001b[38;5;28;01mdef\u001b[39;00m \u001b[38;5;21m_transform_one\u001b[39m(transformer, X, y, weight, \u001b[38;5;241m*\u001b[39m\u001b[38;5;241m*\u001b[39mfit_params):\n\u001b[1;32m--> 933\u001b[0m     res \u001b[38;5;241m=\u001b[39m transformer\u001b[38;5;241m.\u001b[39mtransform(X)\n\u001b[0;32m    934\u001b[0m     \u001b[38;5;66;03m# if we have a weight for this transformer, multiply output\u001b[39;00m\n\u001b[0;32m    935\u001b[0m     \u001b[38;5;28;01mif\u001b[39;00m weight \u001b[38;5;129;01mis\u001b[39;00m \u001b[38;5;28;01mNone\u001b[39;00m:\n",
      "File \u001b[1;32m~\\anaconda3\\Lib\\site-packages\\sklearn\\utils\\_set_output.py:140\u001b[0m, in \u001b[0;36m_wrap_method_output.<locals>.wrapped\u001b[1;34m(self, X, *args, **kwargs)\u001b[0m\n\u001b[0;32m    138\u001b[0m \u001b[38;5;129m@wraps\u001b[39m(f)\n\u001b[0;32m    139\u001b[0m \u001b[38;5;28;01mdef\u001b[39;00m \u001b[38;5;21mwrapped\u001b[39m(\u001b[38;5;28mself\u001b[39m, X, \u001b[38;5;241m*\u001b[39margs, \u001b[38;5;241m*\u001b[39m\u001b[38;5;241m*\u001b[39mkwargs):\n\u001b[1;32m--> 140\u001b[0m     data_to_wrap \u001b[38;5;241m=\u001b[39m f(\u001b[38;5;28mself\u001b[39m, X, \u001b[38;5;241m*\u001b[39margs, \u001b[38;5;241m*\u001b[39m\u001b[38;5;241m*\u001b[39mkwargs)\n\u001b[0;32m    141\u001b[0m     \u001b[38;5;28;01mif\u001b[39;00m \u001b[38;5;28misinstance\u001b[39m(data_to_wrap, \u001b[38;5;28mtuple\u001b[39m):\n\u001b[0;32m    142\u001b[0m         \u001b[38;5;66;03m# only wrap the first output for cross decomposition\u001b[39;00m\n\u001b[0;32m    143\u001b[0m         return_tuple \u001b[38;5;241m=\u001b[39m (\n\u001b[0;32m    144\u001b[0m             _wrap_data_with_container(method, data_to_wrap[\u001b[38;5;241m0\u001b[39m], X, \u001b[38;5;28mself\u001b[39m),\n\u001b[0;32m    145\u001b[0m             \u001b[38;5;241m*\u001b[39mdata_to_wrap[\u001b[38;5;241m1\u001b[39m:],\n\u001b[0;32m    146\u001b[0m         )\n",
      "File \u001b[1;32m~\\anaconda3\\Lib\\site-packages\\sklearn\\preprocessing\\_encoders.py:1016\u001b[0m, in \u001b[0;36mOneHotEncoder.transform\u001b[1;34m(self, X)\u001b[0m\n\u001b[0;32m   1011\u001b[0m \u001b[38;5;66;03m# validation of X happens in _check_X called by _transform\u001b[39;00m\n\u001b[0;32m   1012\u001b[0m warn_on_unknown \u001b[38;5;241m=\u001b[39m \u001b[38;5;28mself\u001b[39m\u001b[38;5;241m.\u001b[39mdrop \u001b[38;5;129;01mis\u001b[39;00m \u001b[38;5;129;01mnot\u001b[39;00m \u001b[38;5;28;01mNone\u001b[39;00m \u001b[38;5;129;01mand\u001b[39;00m \u001b[38;5;28mself\u001b[39m\u001b[38;5;241m.\u001b[39mhandle_unknown \u001b[38;5;129;01min\u001b[39;00m {\n\u001b[0;32m   1013\u001b[0m     \u001b[38;5;124m\"\u001b[39m\u001b[38;5;124mignore\u001b[39m\u001b[38;5;124m\"\u001b[39m,\n\u001b[0;32m   1014\u001b[0m     \u001b[38;5;124m\"\u001b[39m\u001b[38;5;124minfrequent_if_exist\u001b[39m\u001b[38;5;124m\"\u001b[39m,\n\u001b[0;32m   1015\u001b[0m }\n\u001b[1;32m-> 1016\u001b[0m X_int, X_mask \u001b[38;5;241m=\u001b[39m \u001b[38;5;28mself\u001b[39m\u001b[38;5;241m.\u001b[39m_transform(\n\u001b[0;32m   1017\u001b[0m     X,\n\u001b[0;32m   1018\u001b[0m     handle_unknown\u001b[38;5;241m=\u001b[39m\u001b[38;5;28mself\u001b[39m\u001b[38;5;241m.\u001b[39mhandle_unknown,\n\u001b[0;32m   1019\u001b[0m     force_all_finite\u001b[38;5;241m=\u001b[39m\u001b[38;5;124m\"\u001b[39m\u001b[38;5;124mallow-nan\u001b[39m\u001b[38;5;124m\"\u001b[39m,\n\u001b[0;32m   1020\u001b[0m     warn_on_unknown\u001b[38;5;241m=\u001b[39mwarn_on_unknown,\n\u001b[0;32m   1021\u001b[0m )\n\u001b[0;32m   1023\u001b[0m n_samples, n_features \u001b[38;5;241m=\u001b[39m X_int\u001b[38;5;241m.\u001b[39mshape\n\u001b[0;32m   1025\u001b[0m \u001b[38;5;28;01mif\u001b[39;00m \u001b[38;5;28mself\u001b[39m\u001b[38;5;241m.\u001b[39m_drop_idx_after_grouping \u001b[38;5;129;01mis\u001b[39;00m \u001b[38;5;129;01mnot\u001b[39;00m \u001b[38;5;28;01mNone\u001b[39;00m:\n",
      "File \u001b[1;32m~\\anaconda3\\Lib\\site-packages\\sklearn\\preprocessing\\_encoders.py:191\u001b[0m, in \u001b[0;36m_BaseEncoder._transform\u001b[1;34m(self, X, handle_unknown, force_all_finite, warn_on_unknown, ignore_category_indices)\u001b[0m\n\u001b[0;32m    189\u001b[0m \u001b[38;5;28;01mfor\u001b[39;00m i \u001b[38;5;129;01min\u001b[39;00m \u001b[38;5;28mrange\u001b[39m(n_features):\n\u001b[0;32m    190\u001b[0m     Xi \u001b[38;5;241m=\u001b[39m X_list[i]\n\u001b[1;32m--> 191\u001b[0m     diff, valid_mask \u001b[38;5;241m=\u001b[39m _check_unknown(Xi, \u001b[38;5;28mself\u001b[39m\u001b[38;5;241m.\u001b[39mcategories_[i], return_mask\u001b[38;5;241m=\u001b[39m\u001b[38;5;28;01mTrue\u001b[39;00m)\n\u001b[0;32m    193\u001b[0m     \u001b[38;5;28;01mif\u001b[39;00m \u001b[38;5;129;01mnot\u001b[39;00m np\u001b[38;5;241m.\u001b[39mall(valid_mask):\n\u001b[0;32m    194\u001b[0m         \u001b[38;5;28;01mif\u001b[39;00m handle_unknown \u001b[38;5;241m==\u001b[39m \u001b[38;5;124m\"\u001b[39m\u001b[38;5;124merror\u001b[39m\u001b[38;5;124m\"\u001b[39m:\n",
      "File \u001b[1;32m~\\anaconda3\\Lib\\site-packages\\sklearn\\utils\\_encode.py:304\u001b[0m, in \u001b[0;36m_check_unknown\u001b[1;34m(values, known_values, return_mask)\u001b[0m\n\u001b[0;32m    301\u001b[0m         valid_mask \u001b[38;5;241m=\u001b[39m np\u001b[38;5;241m.\u001b[39mones(\u001b[38;5;28mlen\u001b[39m(values), dtype\u001b[38;5;241m=\u001b[39m\u001b[38;5;28mbool\u001b[39m)\n\u001b[0;32m    303\u001b[0m \u001b[38;5;66;03m# check for nans in the known_values\u001b[39;00m\n\u001b[1;32m--> 304\u001b[0m \u001b[38;5;28;01mif\u001b[39;00m np\u001b[38;5;241m.\u001b[39misnan(known_values)\u001b[38;5;241m.\u001b[39many():\n\u001b[0;32m    305\u001b[0m     diff_is_nan \u001b[38;5;241m=\u001b[39m np\u001b[38;5;241m.\u001b[39misnan(diff)\n\u001b[0;32m    306\u001b[0m     \u001b[38;5;28;01mif\u001b[39;00m diff_is_nan\u001b[38;5;241m.\u001b[39many():\n\u001b[0;32m    307\u001b[0m         \u001b[38;5;66;03m# removes nan from valid_mask\u001b[39;00m\n",
      "\u001b[1;31mTypeError\u001b[0m: ufunc 'isnan' not supported for the input types, and the inputs could not be safely coerced to any supported types according to the casting rule ''safe''"
     ]
    }
   ],
   "source": [
    "pipe = Pipeline([\n",
    "    (\"preprocessing\", ct),\n",
    "    (\"model\", ElasticNet())\n",
    "                               #alpha=0,lambda=1,colsample_bytree=.8,learning_rate=.1,max_depth=7,subsample=.5))\n",
    "])\n",
    "pipe.fit(X_train,y_train)\n",
    "# Make predictions on the test set\n",
    "y_pred = pipe.predict(X_test)\n",
    "\n",
    "#make into dataframe with id_num\n",
    "res = pd.DataFrame({'PID':test['PID'],'SalePrice':y_pred})\n",
    "#turn into csv\n",
    "#res.to_csv('house_price_.csv',index=False)\n",
    "res"
   ]
  },
  {
   "cell_type": "code",
   "execution_count": null,
   "id": "04ead907-0913-4722-96fc-c434990dcbbc",
   "metadata": {},
   "outputs": [],
   "source": [
    "Best model Score: 0.13769917821391373\n",
    "{'model__alpha': 0, 'model__booster': 'gbtree', 'model__colsample_bytree': 0.8, 'model__lambda': 1, 'model__learning_rate': 0.1, 'model__max_depth': 7, 'model__subsample': 0.5}"
   ]
  }
 ],
 "metadata": {
  "kernelspec": {
   "display_name": "Python 3 (ipykernel)",
   "language": "python",
   "name": "python3"
  },
  "language_info": {
   "codemirror_mode": {
    "name": "ipython",
    "version": 3
   },
   "file_extension": ".py",
   "mimetype": "text/x-python",
   "name": "python",
   "nbconvert_exporter": "python",
   "pygments_lexer": "ipython3",
   "version": "3.11.5"
  }
 },
 "nbformat": 4,
 "nbformat_minor": 5
}
